{
 "cells": [
  {
   "cell_type": "markdown",
   "metadata": {},
   "source": [
    "# Why Functions?\n",
    "\n",
    "- Avoid repeating logic\n",
    "\n",
    "## DRY\n",
    "Principle. Code smell.\n",
    "\n",
    "D - Don't\n",
    "R - Repeat\n",
    "Y - Yourself\n",
    "\n",
    "## Function Terms\n",
    "- Definition\n",
    "- Name\n",
    "- Body\n",
    "- Parameters\n",
    "- Arguments\n",
    "- Call"
   ]
  },
  {
   "cell_type": "code",
   "execution_count": null,
   "metadata": {},
   "outputs": [],
   "source": [
    "# Task 1\n",
    "\n",
    "def greet(name):\n",
    "    print(f\"Hi {name}! 👋\")\n",
    "\n",
    "greet(\"Ethan\")"
   ]
  }
 ],
 "metadata": {
  "kernelspec": {
   "display_name": ".venv",
   "language": "python",
   "name": "python3"
  },
  "language_info": {
   "name": "python",
   "version": "3.13.2"
  }
 },
 "nbformat": 4,
 "nbformat_minor": 2
}
