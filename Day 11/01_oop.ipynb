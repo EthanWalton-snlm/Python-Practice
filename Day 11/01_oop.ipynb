{
 "cells": [
  {
   "cell_type": "markdown",
   "metadata": {},
   "source": [
    "## Bank\n",
    "- acc_no\n",
    "- name\n",
    "- balance"
   ]
  },
  {
   "cell_type": "code",
   "execution_count": 63,
   "metadata": {},
   "outputs": [
    {
     "name": "stdout",
     "output_type": "stream",
     "text": [
      "Successfully Applied Interest. Your balance is: R105,000.00\n",
      "Successfully Applied Interest. Your balance is: R61,200.00\n",
      "Success. Your balance is: R48,999.00\n"
     ]
    }
   ],
   "source": [
    "class Bank:\n",
    "    interest_rate = 0.02\n",
    "\n",
    "    total_accounts = 0\n",
    "\n",
    "    def __init__(self, acc_no, name, balance=0.0):\n",
    "        self.acc_no = acc_no\n",
    "        self.name = name\n",
    "        self.balance = balance\n",
    "        Bank.total_accounts += 1\n",
    "\n",
    "    def to_string(self):\n",
    "        return (\n",
    "            f\"Name: {self.name}\\nAccount Number: {self.acc_no}\\nBalance: {self.balance:,.2f}\"\n",
    "        )\n",
    "\n",
    "    def display_balance(self):\n",
    "        return f\"Your balance is: R{self.balance:,.2f}\"\n",
    "\n",
    "    # Abstraction - complexity hidden\n",
    "    def withdraw(self, amount):\n",
    "        if self.balance > abs(amount):\n",
    "            self.balance -= abs(amount)\n",
    "            return f\"Success. {self.display_balance()}\"\n",
    "\n",
    "        return(\n",
    "            f\"Failed due to insufficient balance. {self.display_balance()}\"\n",
    "        )\n",
    "\n",
    "    def deposit(self, amount):\n",
    "        self.balance += amount\n",
    "\n",
    "        return f\"Successfully Deposited. {self.display_balance()}\"\n",
    "\n",
    "    def apply_interest(self):\n",
    "        self.balance *= 1 + self.interest_rate\n",
    "\n",
    "        return f\"Successfully Applied Interest. {self.display_balance()}\"\n",
    "\n",
    "    @classmethod\n",
    "    def update_interest_rate(cls, rate):\n",
    "        if not 0 <= rate <= 100:\n",
    "            return \"Failed. Invalid rate provided.\"\n",
    "\n",
    "        cls.interest_rate = rate / 100\n",
    "        return f\"Success. Interest rate updated to {cls.interest_rate:,.2f}.\"\n",
    "\n",
    "    @classmethod\n",
    "    def get_total_no_accounts(cls):\n",
    "        return f\"In total we have {cls.total_accounts} accounts.\"\n",
    "\n",
    "\n",
    "class SavingsAccount(Bank):\n",
    "    interest_rate = 0.05\n",
    "\n",
    "\n",
    "class ChequeAccount(Bank):\n",
    "    transact_fee = 1\n",
    "\n",
    "    def withdraw(self, amount):\n",
    "        return super().withdraw(amount+ChequeAccount.transact_fee)\n",
    "\n",
    "\n",
    "chleo = SavingsAccount(123, \"Chleo Smith\", 100_000)\n",
    "print(chleo.apply_interest())\n",
    "\n",
    "diyali = Bank(124, \"Diyali Devraj\", 60_000)\n",
    "print(diyali.apply_interest())\n",
    "\n",
    "anita = ChequeAccount(125, \"Anita Chivizhe\", 50_000)\n",
    "print(anita.withdraw(1_000))\n",
    "\n",
    "\n",
    "\n",
    "# ethan = Bank(10101010111, \"Ethan Walton\", float(\"inf\"))\n",
    "# ragav = Bank(10101010112, \"Ragav Kumar\", 100_000)\n",
    "# anita = Bank(10101010113, \"Anita Chivizhe\", 9_999_999)\n",
    "\n",
    "# print(ragav.display_balance())\n",
    "# print(ragav.deposit(5_000))\n",
    "# print(ragav.display_balance())\n",
    "# print(ragav.withdraw(5_000))\n",
    "# print(ragav.apply_interest())\n",
    "# print(Bank.update_interest_rate(22.5))\n",
    "# print(ragav.apply_interest())\n",
    "# print(Bank.get_total_no_accounts())\n"
   ]
  },
  {
   "cell_type": "markdown",
   "metadata": {},
   "source": [
    "## Encapsulation\n",
    "- Data + Logic -> Instance variables + instance methods -> Container (Class)\n",
    "- Access to Data\n",
    "\n",
    "## Abstraction\n",
    "- Hiding code complexity"
   ]
  },
  {
   "cell_type": "code",
   "execution_count": null,
   "metadata": {},
   "outputs": [
    {
     "name": "stdout",
     "output_type": "stream",
     "text": [
      "12.56\n",
      "12.56\n",
      "12.56\n"
     ]
    }
   ],
   "source": [
    "# Class variable -> for all the instances the value remains the same\n",
    "# Instance variable -> for each instance value is different\n",
    "\n",
    "# Modify class variable -> class method\n",
    "class Circle:\n",
    "    PI = 3.14\n",
    "\n",
    "    def __init__(self, radius):\n",
    "        self.radius = radius\n",
    "\n",
    "    def calculate_area(self):\n",
    "        return Circle.PI * (self.radius**2)\n",
    "\n",
    "    @staticmethod # when we don't need self\n",
    "    def perimeter(radius):\n",
    "        return 2 * Circle.PI * radius\n",
    "\n",
    "    @classmethod\n",
    "    def from_diameter(cls, diameter):\n",
    "        radius = diameter/2\n",
    "        return cls(radius) # Circle(radius)\n",
    "\n",
    "c1 = Circle(2)\n",
    "print(c1.calculate_area())\n",
    "print(Circle.perimeter(2))\n",
    "\n",
    "c2 = Circle.from_diameter(4)\n",
    "print(c1.calculate_area())"
   ]
  },
  {
   "cell_type": "markdown",
   "metadata": {},
   "source": [
    "## Inheritance"
   ]
  },
  {
   "cell_type": "code",
   "execution_count": null,
   "metadata": {},
   "outputs": [
    {
     "name": "stdout",
     "output_type": "stream",
     "text": [
      "Some sound\n"
     ]
    }
   ],
   "source": [
    "class Animal:\n",
    "    def __init__(self, name):\n",
    "        self.name = name\n",
    "\n",
    "    def speak(self):\n",
    "        return \"Some sound\"\n",
    "\n",
    "# Dog inheritis from Animal\n",
    "# Child Class\n",
    "class Dog(Animal):\n",
    "    def __init__(self, name, speed):\n",
    "        super().__init__(name)\n",
    "        self.speed = speed\n",
    "\n",
    "    def speak(self):\n",
    "        return \"Woof Woof !! 🐕\"\n",
    "\n",
    "    def run(self):\n",
    "        return \"🐶 wags tails !! 🐕\"\n",
    "\n",
    "keith = Animal(\"keith\")\n",
    "toby = Dog(\"toby\", 20)\n",
    "\n",
    "print(toby.speak())"
   ]
  }
 ],
 "metadata": {
  "kernelspec": {
   "display_name": ".venv",
   "language": "python",
   "name": "python3"
  },
  "language_info": {
   "codemirror_mode": {
    "name": "ipython",
    "version": 3
   },
   "file_extension": ".py",
   "mimetype": "text/x-python",
   "name": "python",
   "nbconvert_exporter": "python",
   "pygments_lexer": "ipython3",
   "version": "3.13.2"
  }
 },
 "nbformat": 4,
 "nbformat_minor": 2
}
