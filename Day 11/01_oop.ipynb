{
 "cells": [
  {
   "cell_type": "markdown",
   "metadata": {},
   "source": [
    "## Bank\n",
    "- acc_no\n",
    "- name\n",
    "- balance"
   ]
  },
  {
   "cell_type": "code",
   "execution_count": 22,
   "metadata": {},
   "outputs": [
    {
     "name": "stdout",
     "output_type": "stream",
     "text": [
      "Successfully Applied Interest. Your balance is: R105,000.00\n",
      "Successfully Applied Interest. Your balance is: R61,200.00\n",
      "Success. Your balance is: R48,999.00\n",
      "__str__: This is a Savings account (123) belonging to Chleo Smith with balance 105000.0 and interest 0.05%\n",
      "__str__: This is a Bank account (124) belonging to Diyali Devraj with balance 61200.0 and interest 0.02%\n",
      "__str__: This is a Cheque account (125) belonging to Anita Chivizhe with balance 48999 and interest 0.02%\n",
      "__repr__: CheckingAccount(125, 'Anita Chivizhe', '48999')\n",
      "__add__: anita + ragav = 58999\n"
     ]
    }
   ],
   "source": [
    "class Bank:\n",
    "    interest_rate = 0.02\n",
    "\n",
    "    total_accounts = 0\n",
    "\n",
    "    def __init__(self, acc_no, name, balance=0.0):\n",
    "        self.acc_no = acc_no\n",
    "        self.name = name\n",
    "        self.balance = balance\n",
    "        Bank.total_accounts += 1\n",
    "\n",
    "    def to_string(self):\n",
    "        return (\n",
    "            f\"Name: {self.name}\\nAccount Number: {self.acc_no}\\nBalance: {self.balance:,.2f}\"\n",
    "        )\n",
    "\n",
    "    def display_balance(self):\n",
    "        return f\"Your balance is: R{self.balance:,.2f}\"\n",
    "\n",
    "    # Abstraction - complexity hidden\n",
    "    def withdraw(self, amount):\n",
    "        if self.balance > abs(amount):\n",
    "            self.balance -= abs(amount)\n",
    "            return f\"Success. {self.display_balance()}\"\n",
    "\n",
    "        return(\n",
    "            f\"Failed due to insufficient balance. {self.display_balance()}\"\n",
    "        )\n",
    "\n",
    "    def deposit(self, amount):\n",
    "        self.balance += amount\n",
    "\n",
    "        return f\"Successfully Deposited. {self.display_balance()}\"\n",
    "\n",
    "    def apply_interest(self):\n",
    "        self.balance *= 1 + self.interest_rate\n",
    "\n",
    "        return f\"Successfully Applied Interest. {self.display_balance()}\"\n",
    "\n",
    "    @classmethod\n",
    "    def update_interest_rate(cls, rate):\n",
    "        if not 0 <= rate <= 100:\n",
    "            return \"Failed. Invalid rate provided.\"\n",
    "\n",
    "        cls.interest_rate = rate / 100\n",
    "        return f\"Success. Interest rate updated to {cls.interest_rate:,.2f}.\"\n",
    "\n",
    "    @classmethod\n",
    "    def get_total_no_accounts(cls):\n",
    "        return f\"In total we have {cls.total_accounts} accounts.\"\n",
    "\n",
    "    def __str__(self):\n",
    "        return f\"This is a Bank account ({self.acc_no}) belonging to {self.name} with balance {self.balance} and interest {self.interest_rate}%\"\n",
    "\n",
    "\n",
    "class SavingsAccount(Bank):\n",
    "    interest_rate = 0.05\n",
    "\n",
    "    def __str__(self):\n",
    "        return f\"This is a Savings account ({self.acc_no}) belonging to {self.name} with balance {self.balance} and interest {self.interest_rate}%\"\n",
    "\n",
    "# Magic methods: __str__ and __repr__\n",
    "# repr: don't need to run multiple statements to get values, just have them all printed\n",
    "class ChequeAccount(Bank):\n",
    "    transact_fee = 1\n",
    "\n",
    "    def withdraw(self, amount):\n",
    "        return super().withdraw(amount+ChequeAccount.transact_fee)\n",
    "\n",
    "    def __str__(self):\n",
    "        \"\"\" Human readable UX ⬆️ \"\"\"\n",
    "        return f\"This is a Cheque account ({self.acc_no}) belonging to {self.name} with balance {self.balance} and interest {self.interest_rate}%\"\n",
    "\n",
    "    def __repr__(self):\n",
    "        \"\"\" DX ⬆️ \"\"\"\n",
    "        return f\"CheckingAccount({self.acc_no}, '{self.name}', '{self.balance}')\"\n",
    "\n",
    "    def __add__(self, other):\n",
    "        return self.balance + other.balance\n",
    "\n",
    "chleo = SavingsAccount(123, \"Chleo Smith\", 100_000)\n",
    "print(chleo.apply_interest())\n",
    "\n",
    "diyali = Bank(124, \"Diyali Devraj\", 60_000)\n",
    "print(diyali.apply_interest())\n",
    "\n",
    "anita = ChequeAccount(125, \"Anita Chivizhe\", 50_000)\n",
    "print(anita.withdraw(1_000))\n",
    "\n",
    "ragav = ChequeAccount(126, \"Ragav Kumar\", 10_000)\n",
    "\n",
    "print(\"__str__:\", chleo)\n",
    "print(\"__str__:\", diyali)\n",
    "print(\"__str__:\", anita)\n",
    "\n",
    "print(\"__repr__:\",repr(anita))\n",
    "\n",
    "print(\"__add__: anita + ragav =\", anita + ragav)\n"
   ]
  },
  {
   "cell_type": "markdown",
   "metadata": {},
   "source": [
    "## Encapsulation\n",
    "- Data + Logic -> Instance variables + instance methods -> Container (Class)\n",
    "- Access to Data\n",
    "- **start with** `__` to have private variable, `_` to be protected\n",
    "- Private vs Protected:\n",
    "  - Protected: Same as private but does get inherited\n",
    "  - Private: Do not get inherited\n",
    "\n",
    "## Abstraction\n",
    "- Hiding code complexity"
   ]
  },
  {
   "cell_type": "code",
   "execution_count": 23,
   "metadata": {},
   "outputs": [
    {
     "name": "stdout",
     "output_type": "stream",
     "text": [
      "12.56\n",
      "12.56\n",
      "12.56\n"
     ]
    }
   ],
   "source": [
    "# Class variable -> for all the instances the value remains the same\n",
    "# Instance variable -> for each instance value is different\n",
    "\n",
    "# Modify class variable -> class method\n",
    "class Circle:\n",
    "    PI = 3.14\n",
    "\n",
    "    def __init__(self, radius):\n",
    "        self.radius = radius\n",
    "\n",
    "    def calculate_area(self):\n",
    "        return Circle.PI * (self.radius**2)\n",
    "\n",
    "    @staticmethod # when we don't need self\n",
    "    def perimeter(radius):\n",
    "        return 2 * Circle.PI * radius\n",
    "\n",
    "    @classmethod\n",
    "    def from_diameter(cls, diameter):\n",
    "        radius = diameter/2\n",
    "        return cls(radius) # Circle(radius)\n",
    "\n",
    "c1 = Circle(2)\n",
    "print(c1.calculate_area())\n",
    "print(Circle.perimeter(2))\n",
    "\n",
    "c2 = Circle.from_diameter(4)\n",
    "print(c1.calculate_area())"
   ]
  },
  {
   "cell_type": "markdown",
   "metadata": {},
   "source": [
    "## Inheritance"
   ]
  },
  {
   "cell_type": "code",
   "execution_count": 24,
   "metadata": {},
   "outputs": [
    {
     "name": "stdout",
     "output_type": "stream",
     "text": [
      "Toby says Woof Woof !! 🐕\n",
      "Toby is 1.0m tall.\n",
      "\n",
      "Keith says something\n",
      "Keith is 0.6m tall.\n"
     ]
    }
   ],
   "source": [
    "class Animal:\n",
    "    def __init__(self, name, height):\n",
    "        self._name = name # Protected varialbe\n",
    "        # self.__name = name  # Private varialbe\n",
    "\n",
    "        self.__height = height\n",
    "\n",
    "    def speak(self):\n",
    "        return f\"{self._name} says something\"\n",
    "\n",
    "    def check_height(self):\n",
    "        return f\"{self._name} is {self.__height}m tall.\"\n",
    "\n",
    "# Dog inheritis from Animal\n",
    "# Child Class\n",
    "class Dog(Animal):\n",
    "    def __init__(self, name, height, speed):\n",
    "        super().__init__(name, height)\n",
    "        self.speed = speed\n",
    "\n",
    "    def speak(self):\n",
    "        # return f\"{self.__name} says Woof Woof !! 🐕\" # Error since private\n",
    "        return f\"{self._name} says Woof Woof !! 🐕\"\n",
    "\n",
    "    def run(self):\n",
    "        return \"🐶 wags tails !! 🐕\"\n",
    "\n",
    "    # Will not work since __height is private\n",
    "    # def check_height(self):\n",
    "    #     return f\"{self._name} is {self.__height}m tall.\"\n",
    "\n",
    "keith = Animal(\"Keith\", 0.6)\n",
    "toby = Dog(\"Toby\", 1.0, 20)\n",
    "\n",
    "print(toby.speak())\n",
    "print(toby.check_height() + '\\n')\n",
    "\n",
    "print(keith.speak())\n",
    "print(keith.check_height())"
   ]
  },
  {
   "cell_type": "markdown",
   "metadata": {},
   "source": [
    "## Dunder Methods (__str__, __eq__, etc)\n",
    "### dir(var) to display all methods\n",
    "- Don't use them directly (only if overwritten)\n",
    "  - They might change the implementation"
   ]
  }
 ],
 "metadata": {
  "kernelspec": {
   "display_name": ".venv",
   "language": "python",
   "name": "python3"
  },
  "language_info": {
   "codemirror_mode": {
    "name": "ipython",
    "version": 3
   },
   "file_extension": ".py",
   "mimetype": "text/x-python",
   "name": "python",
   "nbconvert_exporter": "python",
   "pygments_lexer": "ipython3",
   "version": "3.13.2"
  }
 },
 "nbformat": 4,
 "nbformat_minor": 2
}
