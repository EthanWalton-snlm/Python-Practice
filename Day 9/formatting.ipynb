{
 "cells": [
  {
   "cell_type": "code",
   "execution_count": null,
   "metadata": {},
   "outputs": [],
   "source": []
  },
  {
   "cell_type": "code",
   "execution_count": null,
   "metadata": {},
   "outputs": [],
   "source": [
    "# Task\n",
    "\n",
    "recipe = {\n",
    "    \"name\": \"Spaghetti Carbonara\",\n",
    "    \"servings\": 4,\n",
    "    \"ingredients\": [\n",
    "        \"200g spaghetti\",\n",
    "        \"100g pancetta\",\n",
    "        \"2 eggs\",\n",
    "        \"1/2 cup grated Parmesan\",\n",
    "        \"1 clove garlic\",\n",
    "    ],\n",
    "}\n",
    "\n",
    "\n",
    "def format_recipe():\n",
    "    name = f\" {recipe['name']} \"\n",
    "    print(f\"{name:=^34}\")\n",
    "    for ingredient in recipe[\"ingredients\"]:\n",
    "        print(f\"- {ingredient}\")\n",
    "\n",
    "    print(f\"Serves: {recipe['servings']} people\")\n",
    "\n",
    "\n",
    "format_recipe()\n"
   ]
  }
 ],
 "metadata": {
  "kernelspec": {
   "display_name": ".venv",
   "language": "python",
   "name": "python3"
  },
  "language_info": {
   "name": "python",
   "version": "3.13.2"
  }
 },
 "nbformat": 4,
 "nbformat_minor": 2
}
