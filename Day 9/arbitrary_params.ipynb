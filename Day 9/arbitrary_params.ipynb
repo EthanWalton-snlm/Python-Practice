{
 "cells": [
  {
   "cell_type": "code",
   "execution_count": null,
   "metadata": {},
   "outputs": [],
   "source": [
    "def own_max(*nums):  # * -> Collect all the arguments\n",
    "    highest = nums[0]\n",
    "    for num in nums:\n",
    "        highest = num if num > highest else highest\n",
    "\n",
    "    return highest\n",
    "\n",
    "print(own_max(9, 6))\n",
    "print(own_max(3, 4, 5, 6))\n",
    "print(own_max(3, 4, -55, 6, 7, 2, 3, 10, 1))"
   ]
  },
  {
   "cell_type": "code",
   "execution_count": null,
   "metadata": {},
   "outputs": [],
   "source": [
    "# Task 1.1\n",
    "\n",
    "def mood_report(time_of_day=\"this morning 🌅\", mood=\"🙂\"):\n",
    "    return f\"Feeling {mood} this {time_of_day}.\"\n",
    "\n",
    "\n",
    "# Example outputs:\n",
    "print(mood_report())  # \"Feeling 🙂 this morning 🌅.\"\n",
    "print(\n",
    "    mood_report(mood=\"😎\", time_of_day=\"afternoon ☀️\")\n",
    ")  # \"Feeling 😎 this afternoon ☀️.\"\n"
   ]
  },
  {
   "cell_type": "code",
   "execution_count": null,
   "metadata": {},
   "outputs": [],
   "source": [
    "books = [\n",
    "    {\"title\": \"1984\", \"author\": \"George Orwell\", \"year\": 1949},\n",
    "    {\"author\": \"J.K. Rowling\"},  # Missing title and year\n",
    "    {\"title\": \"The Great Gatsby\", \"author\": \"F. Scott Fitzgerald\", \"year\": 1925},\n",
    "    {\"title\": \"To Kill a Mockingbird\", \"year\": 1960},  # Missing author\n",
    "    {\"author\": \"Ernest Hemingway\", \"year\": 1952},  # Missing title\n",
    "]\n",
    "\n",
    "# Task 1.2 - Method 1\n",
    "\n",
    "def format_books(books):\n",
    "    result = \"\"\n",
    "    for book in books:\n",
    "        result += f\"'{book.get('title', 'Untitled')}' by {book.get('author', 'Unknown')} ({book.get('year', 'N/A')})\\n\"\n",
    "\n",
    "    return result\n",
    "\n",
    "\n",
    "# Task 1.2 - Method 2\n",
    "\n",
    "\n",
    "def format_books2_helper(title=\"Untitled\", author=\"Unknown\", year=\"N/A\"):\n",
    "    return f\"'{title}' by {author} ({year})\\n\"\n",
    "\n",
    "\n",
    "def format_books2(bks):\n",
    "    res = \"\"\n",
    "    for book in bks:\n",
    "        res += format_books2_helper(**book)\n",
    "\n",
    "    return res\n",
    "\n",
    "\n",
    "print(format_books(books))\n",
    "print(format_books2(books))\n",
    "\n",
    "# Task 1.2 - Method 3\n",
    "\n",
    "\n",
    "def format_books3(books):\n",
    "    result = \"\"\n",
    "    for book in books:\n",
    "        result += format_books2_helper(book.items())\n",
    "\n",
    "    return result\n",
    "\n",
    "def format_books3_helper(*vals):\n",
    "    title = vals[0] if len(vals) >= 0 else 'Untitled'\n",
    "    author = vals[1] if len(vals) >= 1 else \"Unknown\"\n",
    "    year = vals[2] if len(vals) >= 2 else \"N/A\"\n",
    "\n",
    "    return f\"'{title}' by {author} ({year})\\n\"\n",
    "\n",
    "\n",
    "print(format_books3(books))\n"
   ]
  },
  {
   "cell_type": "markdown",
   "metadata": {},
   "source": [
    "# Arbitrary Parameters"
   ]
  },
  {
   "cell_type": "markdown",
   "metadata": {},
   "source": []
  }
 ],
 "metadata": {
  "kernelspec": {
   "display_name": ".venv",
   "language": "python",
   "name": "python3"
  },
  "language_info": {
   "name": "python",
   "version": "3.13.2"
  }
 },
 "nbformat": 4,
 "nbformat_minor": 2
}
