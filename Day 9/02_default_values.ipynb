{
 "cells": [
  {
   "cell_type": "code",
   "execution_count": null,
   "metadata": {},
   "outputs": [],
   "source": [
    "def driving_test(name, age, car): # Parameter (Matching based on position)\n",
    "    if age >= 18:\n",
    "        return f\"{name} is eligible for driving test. You will be tested with {car}\"\n",
    "    else:\n",
    "        return \"Try again after few years 👶🍼\""
   ]
  },
  {
   "cell_type": "code",
   "execution_count": null,
   "metadata": {},
   "outputs": [],
   "source": [
    "def driving_test(age, name, car): # Parameter (Matching based on position)\n",
    "    if age >= 18:\n",
    "        return f\"{name} is eligible for driving test. You will be tested with {car}\"\n",
    "    else:\n",
    "        return \"Try again after few years 👶🍼\""
   ]
  },
  {
   "cell_type": "code",
   "execution_count": null,
   "metadata": {},
   "outputs": [],
   "source": [
    "# driving_test(\"Hyundai i10\", 19, \"Diyali\") # Position Arguments"
   ]
  },
  {
   "cell_type": "code",
   "execution_count": null,
   "metadata": {},
   "outputs": [],
   "source": [
    "driving_test(car=\"Hyundai i10\", age=19, name=\"Diyali\") # Keyword Arguments\n"
   ]
  },
  {
   "cell_type": "code",
   "execution_count": null,
   "metadata": {},
   "outputs": [],
   "source": [
    "# driving_test(car=\"Hyundai i10\", 19, name=\"Diyali\") "
   ]
  },
  {
   "cell_type": "code",
   "execution_count": null,
   "metadata": {},
   "outputs": [],
   "source": [
    "# driving_test(19, car=\"Hyundai i10\", name=\"Diyali\")"
   ]
  },
  {
   "cell_type": "code",
   "execution_count": null,
   "metadata": {},
   "outputs": [],
   "source": [
    "# driving_test(car = \"Hyundai i10\", name = \"Diyali\", 19)"
   ]
  },
  {
   "cell_type": "code",
   "execution_count": null,
   "metadata": {},
   "outputs": [],
   "source": [
    "# Pos Arg first then Key Arg Next"
   ]
  },
  {
   "cell_type": "code",
   "execution_count": null,
   "metadata": {},
   "outputs": [],
   "source": [
    "def driving_test(name, age, car): # Parameter (Matching based on position)\n",
    "    if age >= 18:\n",
    "        return f\"{name} is eligible for driving test. You will be tested with {car}\"\n",
    "    else:\n",
    "        return \"Try again after few years 👶🍼\""
   ]
  },
  {
   "cell_type": "code",
   "execution_count": null,
   "metadata": {},
   "outputs": [],
   "source": [
    "driving_test(\"Diyali\", age=18, car=\"Hyundai i10\")\n",
    "# driving_test(\"Diyali\", 18, \"Hyundai i10\")"
   ]
  },
  {
   "cell_type": "code",
   "execution_count": null,
   "metadata": {},
   "outputs": [],
   "source": [
    "driving_test(\"Diyali\", car=\"Hyundai i10\", age=18) # KW does not need to follow order of parameter"
   ]
  },
  {
   "cell_type": "markdown",
   "metadata": {},
   "source": [
    "## Summary\n",
    "- Pos Arg first then Key Arg Next\n",
    "- KW does not need to follow order of parameters\n"
   ]
  },
  {
   "cell_type": "markdown",
   "metadata": {},
   "source": [
    "## Default values"
   ]
  },
  {
   "cell_type": "code",
   "execution_count": null,
   "metadata": {},
   "outputs": [],
   "source": [
    "def driving_test(name, age, car): # Parameter (Matching based on position)\n",
    "    if age >= 18:\n",
    "        return f\"{name} is eligible for driving test. You will be tested with {car}\"\n",
    "    else:\n",
    "        return \"Try again after few years 👶🍼\""
   ]
  },
  {
   "cell_type": "code",
   "execution_count": null,
   "metadata": {},
   "outputs": [],
   "source": [
    "# driving_test(\"Diyali\", 19) # Parameters > Arguments # Error"
   ]
  },
  {
   "cell_type": "code",
   "execution_count": null,
   "metadata": {},
   "outputs": [],
   "source": [
    "# driving_test(car=\"Toyota Yaris\", age=19)  # Parameters > Arguments # Error"
   ]
  },
  {
   "cell_type": "code",
   "execution_count": null,
   "metadata": {},
   "outputs": [],
   "source": [
    "def driving_test(name, age, car=\"Polo Vivo\"): # Default value\n",
    "    if age >= 18:\n",
    "        return f\"{name} is eligible for driving test. You will be tested with {car}\"\n",
    "    else:\n",
    "        return \"Try again after few years 👶🍼\""
   ]
  },
  {
   "cell_type": "code",
   "execution_count": null,
   "metadata": {},
   "outputs": [],
   "source": [
    "driving_test(\"Ethan\", 19)"
   ]
  },
  {
   "cell_type": "code",
   "execution_count": null,
   "metadata": {},
   "outputs": [],
   "source": [
    "driving_test(\"Inganathi\", 19, \"Ferrari\")  # Pos Args"
   ]
  },
  {
   "cell_type": "code",
   "execution_count": null,
   "metadata": {},
   "outputs": [],
   "source": [
    "driving_test(age=18, name=\"Jevan\") # KW Args"
   ]
  },
  {
   "cell_type": "code",
   "execution_count": null,
   "metadata": {},
   "outputs": [],
   "source": [
    "def driving_test1( age, name=\"Mr./Mrs. cool\", car=\"Polo Vivo\"): # Default value - Order matters ✅\n",
    "    if age >= 18:\n",
    "        return f\"{name} is eligible for driving test. You will be tested with {car}\"\n",
    "    else:\n",
    "        return \"Try again after few years 👶🍼\""
   ]
  },
  {
   "cell_type": "code",
   "execution_count": null,
   "metadata": {},
   "outputs": [],
   "source": [
    "def driving_test2( name=\"Mr./Mrs. cool\", age=0, car=\"Polo Vivo\"): # Default value - Order matters ✅\n",
    "    if age >= 18:\n",
    "        return f\"{name} is eligible for driving test. You will be tested with {car}\"\n",
    "    else:\n",
    "        return \"Try again after few years 👶🍼\""
   ]
  },
  {
   "cell_type": "code",
   "execution_count": null,
   "metadata": {},
   "outputs": [],
   "source": [
    "driving_test2()"
   ]
  },
  {
   "cell_type": "code",
   "execution_count": null,
   "metadata": {},
   "outputs": [],
   "source": [
    "driving_test2(age=18) "
   ]
  },
  {
   "cell_type": "markdown",
   "metadata": {},
   "source": [
    "# Summary\n",
    "- Default value parameters should come at the last"
   ]
  },
  {
   "cell_type": "code",
   "execution_count": null,
   "metadata": {},
   "outputs": [],
   "source": [
    "# Style Guides"
   ]
  },
  {
   "cell_type": "code",
   "execution_count": 75,
   "metadata": {},
   "outputs": [
    {
     "data": {
      "text/plain": [
       "9"
      ]
     },
     "execution_count": 75,
     "metadata": {},
     "output_type": "execute_result"
    }
   ],
   "source": [
    "max(9, 6)"
   ]
  },
  {
   "cell_type": "code",
   "execution_count": null,
   "metadata": {},
   "outputs": [
    {
     "data": {
      "text/plain": [
       "6"
      ]
     },
     "execution_count": 77,
     "metadata": {},
     "output_type": "execute_result"
    }
   ],
   "source": [
    "max(3, 4, 5, 6)"
   ]
  },
  {
   "cell_type": "code",
   "execution_count": null,
   "metadata": {},
   "outputs": [
    {
     "data": {
      "text/plain": [
       "10"
      ]
     },
     "execution_count": 78,
     "metadata": {},
     "output_type": "execute_result"
    }
   ],
   "source": [
    "\n",
    "max(3, 4, 5, 6, 7, 2, 3, 10, 1)"
   ]
  },
  {
   "cell_type": "code",
   "execution_count": null,
   "metadata": {},
   "outputs": [],
   "source": []
  }
 ],
 "metadata": {
  "kernelspec": {
   "display_name": "Python 3",
   "language": "python",
   "name": "python3"
  },
  "language_info": {
   "codemirror_mode": {
    "name": "ipython",
    "version": 3
   },
   "file_extension": ".py",
   "mimetype": "text/x-python",
   "name": "python",
   "nbconvert_exporter": "python",
   "pygments_lexer": "ipython3",
   "version": "3.11.3"
  }
 },
 "nbformat": 4,
 "nbformat_minor": 2
}
