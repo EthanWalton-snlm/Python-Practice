{
 "cells": [
  {
   "cell_type": "code",
   "execution_count": 3,
   "metadata": {},
   "outputs": [
    {
     "data": {
      "text/plain": [
       "True"
      ]
     },
     "execution_count": 3,
     "metadata": {},
     "output_type": "execute_result"
    }
   ],
   "source": [
    "import requests\n",
    "from pprint import pprint\n",
    "import os\n",
    "from dotenv import load_dotenv, dotenv_values\n",
    "\n",
    "load_dotenv()"
   ]
  },
  {
   "cell_type": "code",
   "execution_count": 5,
   "metadata": {},
   "outputs": [
    {
     "name": "stdout",
     "output_type": "stream",
     "text": [
      "The temperature in London is 7.0°C\n",
      "{'Cape Town': 22.2, 'Johannesburg': 24.1, 'Durban': 27.2}\n"
     ]
    }
   ],
   "source": [
    "API_KEY = os.getenv(\"WEATHER_API_KEY\")\n",
    "\n",
    "def api_city_temp(city):\n",
    "    API = (\n",
    "        f\"http://api.weatherapi.com/v1/current.json?\"\n",
    "        f\"key={API_KEY}&q={city}&aqi=no\"\n",
    "    )\n",
    "\n",
    "    response = requests.get(API, verify=False)\n",
    "\n",
    "    details = response.json()\n",
    "\n",
    "    return details['current']['temp_c']\n",
    "\n",
    "def get_city_temp(city):\n",
    "    return f\"The temperature in {city} is {api_city_temp(city)}°C\"\n",
    "\n",
    "def get_cities_temp(cities):\n",
    "    return {city.title(): api_city_temp(city) for city in cities}\n",
    "\n",
    "\n",
    "def main():\n",
    "    print(get_city_temp(\"London\"))\n",
    "    print(get_cities_temp([\"Cape town\", \"Johannesburg\", \"Durban\"]))\n",
    "\n",
    "main()\n"
   ]
  }
 ],
 "metadata": {
  "kernelspec": {
   "display_name": ".venv",
   "language": "python",
   "name": "python3"
  },
  "language_info": {
   "codemirror_mode": {
    "name": "ipython",
    "version": 3
   },
   "file_extension": ".py",
   "mimetype": "text/x-python",
   "name": "python",
   "nbconvert_exporter": "python",
   "pygments_lexer": "ipython3",
   "version": "3.13.2"
  }
 },
 "nbformat": 4,
 "nbformat_minor": 2
}
