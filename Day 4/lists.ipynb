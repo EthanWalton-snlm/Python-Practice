{
 "cells": [
  {
   "cell_type": "markdown",
   "metadata": {},
   "source": [
    "# Intro List\n",
    "- Motivation: Holds multiple values\n",
    "- Non-primitive data type\n",
    "- Mutable\n",
    "- Same data types (Recommended)\n",
    "- Mixing data types allowed (But don't ❌)\n",
    "- Methods\n",
    "  - Create - marks = [80, 90, 70, 45, 95] - ✅\n",
    "  - Read - index & slice - ✅\n",
    "  - Update - index (mutates),  `append()`, `insert()` - ✅\n",
    "  - Delete - `remove()`, `pop()` - ✅"
   ]
  },
  {
   "cell_type": "code",
   "execution_count": 12,
   "metadata": {},
   "outputs": [],
   "source": [
    "mark1 = 80\n",
    "mark2 = 90\n",
    "mark3 = 70"
   ]
  },
  {
   "cell_type": "code",
   "execution_count": null,
   "metadata": {},
   "outputs": [
    {
     "name": "stdout",
     "output_type": "stream",
     "text": [
      "80\n",
      "90\n",
      "70\n",
      "[80, 90, 70]\n"
     ]
    }
   ],
   "source": [
    "marks = [80, 90, 70]\n",
    "print(marks)"
   ]
  },
  {
   "cell_type": "markdown",
   "metadata": {},
   "source": [
    "# Index"
   ]
  },
  {
   "cell_type": "code",
   "execution_count": null,
   "metadata": {},
   "outputs": [
    {
     "data": {
      "text/plain": [
       "3"
      ]
     },
     "execution_count": 21,
     "metadata": {},
     "output_type": "execute_result"
    }
   ],
   "source": [
    "marks\n"
   ]
  },
  {
   "cell_type": "markdown",
   "metadata": {},
   "source": [
    "# Slice"
   ]
  },
  {
   "cell_type": "code",
   "execution_count": null,
   "metadata": {},
   "outputs": [
    {
     "data": {
      "text/plain": [
       "[70, 90, 80, 70, 90, 80]"
      ]
     },
     "execution_count": 20,
     "metadata": {},
     "output_type": "execute_result"
    }
   ],
   "source": [
    "marks[::-1]"
   ]
  },
  {
   "cell_type": "markdown",
   "metadata": {},
   "source": [
    "# Concatanation"
   ]
  },
  {
   "cell_type": "code",
   "execution_count": null,
   "metadata": {},
   "outputs": [
    {
     "name": "stdout",
     "output_type": "stream",
     "text": [
      "['🍎', '🍊', '🍓', '🍍', '🥕', '🥒', '🍆', '🥔']\n"
     ]
    },
    {
     "data": {
      "text/plain": [
       "4"
      ]
     },
     "execution_count": 24,
     "metadata": {},
     "output_type": "execute_result"
    }
   ],
   "source": [
    "fruits = [\"🍎\", \"🍊\", \"🍓\", \"🍍\"]  # list of strings\n",
    "vegetables = [\"🥕\", \"🥒\", \"🍆\", \"🥔\"]\n",
    "\n",
    "print(fruits + vegetables)\n",
    "len(vegetables)"
   ]
  },
  {
   "cell_type": "code",
   "execution_count": 26,
   "metadata": {},
   "outputs": [
    {
     "name": "stdout",
     "output_type": "stream",
     "text": [
      "[4, 8, 11, 15, 10, 4]\n"
     ]
    }
   ],
   "source": [
    "# Task 1.1\n",
    "\n",
    "avengers = [\n",
    "    \"Hulk\",\n",
    "    \"Iron man\",\n",
    "    \"Black widow\",\n",
    "    \"Captain america\",\n",
    "    \"Spider man\",\n",
    "    \"Thor\",\n",
    "]\n",
    "letters = []\n",
    "\n",
    "for i in avengers:\n",
    "    letters.append(len(i))\n",
    "\n",
    "print(letters)\n"
   ]
  },
  {
   "cell_type": "code",
   "execution_count": 28,
   "metadata": {},
   "outputs": [
    {
     "name": "stdout",
     "output_type": "stream",
     "text": [
      "['Black widow', 'Captain america']\n"
     ]
    }
   ],
   "source": [
    "# Task 1.2\n",
    "\n",
    "avengers = [\n",
    "    \"Hulk\",\n",
    "    \"Iron man\",\n",
    "    \"Black widow\",\n",
    "    \"Captain america\",\n",
    "    \"Spider man\",\n",
    "    \"Thor\",\n",
    "]\n",
    "long_names = []\n",
    "\n",
    "for i in avengers:\n",
    "    if len(i) > 10:\n",
    "        long_names.append(i)\n",
    "\n",
    "print(long_names)\n"
   ]
  },
  {
   "cell_type": "code",
   "execution_count": null,
   "metadata": {},
   "outputs": [
    {
     "name": "stdout",
     "output_type": "stream",
     "text": [
      "Your total is R15000\n",
      "Tax is 10%\t R1500.0\n",
      "Your grand total is R16500.0\n"
     ]
    }
   ],
   "source": [
    "# Task 2.1\n",
    "\n",
    "shopping_items = [1000, 5000, 4000, 2000, 3000]\n",
    "total = 0\n",
    "\n",
    "for item in shopping_items:\n",
    "    total += item\n",
    "\n",
    "tax = total*0.1\n",
    "\n",
    "print(f\"Your total is R{total}\")\n",
    "print(f\"Tax is 10%\\tR{tax}\")\n",
    "print(f\"Your grand total is R{total+tax}\")"
   ]
  }
 ],
 "metadata": {
  "kernelspec": {
   "display_name": ".venv",
   "language": "python",
   "name": "python3"
  },
  "language_info": {
   "codemirror_mode": {
    "name": "ipython",
    "version": 3
   },
   "file_extension": ".py",
   "mimetype": "text/x-python",
   "name": "python",
   "nbconvert_exporter": "python",
   "pygments_lexer": "ipython3",
   "version": "3.13.2"
  }
 },
 "nbformat": 4,
 "nbformat_minor": 2
}
