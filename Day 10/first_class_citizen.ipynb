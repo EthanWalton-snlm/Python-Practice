{
 "cells": [
  {
   "cell_type": "markdown",
   "metadata": {},
   "source": [
    "## Functions\n",
    "\n",
    "1. Function: Assign to variable\n",
    "2. Function: Pass as argument\n",
    "3. Function: Return\n"
   ]
  },
  {
   "cell_type": "code",
   "execution_count": 2,
   "metadata": {},
   "outputs": [
    {
     "name": "stdout",
     "output_type": "stream",
     "text": [
      "Hey Ethan\n"
     ]
    }
   ],
   "source": [
    "# 1. Assign to variable\n",
    "\n",
    "def greet(name):\n",
    "    return(f\"Hey {name}\")\n",
    "\n",
    "y = greet\n",
    "\n",
    "print(y(\"Ethan\"))"
   ]
  },
  {
   "cell_type": "code",
   "execution_count": 3,
   "metadata": {},
   "outputs": [
    {
     "name": "stdout",
     "output_type": "stream",
     "text": [
      "Hey there, Ethan\n"
     ]
    }
   ],
   "source": [
    "# 2. Pass as argument\n",
    "\n",
    "def message():\n",
    "    return \"Hey there\"\n",
    "\n",
    "def greet(message, name):\n",
    "    return(f\"{message()}, {name}\")\n",
    "\n",
    "print(greet(message, \"Ethan\"))"
   ]
  },
  {
   "cell_type": "code",
   "execution_count": 17,
   "metadata": {},
   "outputs": [
    {
     "name": "stdout",
     "output_type": "stream",
     "text": [
      "Hi\n"
     ]
    }
   ],
   "source": [
    "# 3. Return\n",
    "\n",
    "def f1():\n",
    "    def f2():\n",
    "        return \"Hi\"\n",
    "\n",
    "    return f2\n",
    "\n",
    "print(f1()())"
   ]
  }
 ],
 "metadata": {
  "kernelspec": {
   "display_name": ".venv",
   "language": "python",
   "name": "python3"
  },
  "language_info": {
   "codemirror_mode": {
    "name": "ipython",
    "version": 3
   },
   "file_extension": ".py",
   "mimetype": "text/x-python",
   "name": "python",
   "nbconvert_exporter": "python",
   "pygments_lexer": "ipython3",
   "version": "3.13.2"
  }
 },
 "nbformat": 4,
 "nbformat_minor": 2
}
