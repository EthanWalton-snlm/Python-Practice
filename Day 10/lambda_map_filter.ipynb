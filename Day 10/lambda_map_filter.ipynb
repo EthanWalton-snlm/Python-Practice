{
 "cells": [
  {
   "cell_type": "markdown",
   "metadata": {},
   "source": [
    "## Lambda Expression / Function\n",
    "1. Anonymous - nameless Function\n",
    "2. One liner\n",
    "3. Implicit return (automatic)"
   ]
  },
  {
   "cell_type": "code",
   "execution_count": null,
   "metadata": {},
   "outputs": [
    {
     "name": "stdout",
     "output_type": "stream",
     "text": [
      "Hi, Ethan\n",
      "Hi, Ethan\n"
     ]
    }
   ],
   "source": [
    "def greet(name):\n",
    "    return f\"Hi, {name}\"\n",
    "\n",
    "greet1 = lambda name: f\"Hi, {name}\" #implicit return\n",
    "\n",
    "print(greet(\"Ethan\"))\n",
    "print(greet1(\"Ethan\"))"
   ]
  },
  {
   "cell_type": "code",
   "execution_count": 8,
   "metadata": {},
   "outputs": [
    {
     "name": "stdout",
     "output_type": "stream",
     "text": [
      "3\n",
      "3\n"
     ]
    }
   ],
   "source": [
    "def add(n1, n2):\n",
    "    return n1 + n2\n",
    "\n",
    "add1 = lambda n1, n2: n1+n2\n",
    "\n",
    "print(add(1,2))\n",
    "print(add1(1,2))"
   ]
  },
  {
   "cell_type": "markdown",
   "metadata": {},
   "source": [
    "## Map & Filter"
   ]
  },
  {
   "cell_type": "code",
   "execution_count": 9,
   "metadata": {},
   "outputs": [
    {
     "name": "stdout",
     "output_type": "stream",
     "text": [
      "[20, 60, 120]\n"
     ]
    }
   ],
   "source": [
    "player_stats = [10, 30, 60]\n",
    "\n",
    "# Double list on the fly\n",
    "boosted_stats = map(lambda x:x*2, player_stats)\n",
    "\n",
    "print(list(boosted_stats))"
   ]
  },
  {
   "cell_type": "code",
   "execution_count": null,
   "metadata": {},
   "outputs": [
    {
     "name": "stdout",
     "output_type": "stream",
     "text": [
      "[30, 60]\n"
     ]
    }
   ],
   "source": [
    "gt1 = lambda x: x > 10 # Predicate: Return boolean\n",
    "\n",
    "result = filter(gt1, [10,30,60]) # Filter expects a predicate (func should return T/F)\n",
    "\n",
    "print(list(result))"
   ]
  },
  {
   "cell_type": "code",
   "execution_count": null,
   "metadata": {},
   "outputs": [
    {
     "name": "stdout",
     "output_type": "stream",
     "text": [
      "[4, 8, 11, 15, 10, 4]\n"
     ]
    }
   ],
   "source": [
    "# Task 1.1\n",
    "\n",
    "avengers = [\n",
    "    \"Hulk\",\n",
    "    \"Iron man\",\n",
    "    \"Black widow\",\n",
    "    \"Captain america\",\n",
    "    \"Spider man\",\n",
    "    \"Thor\",\n",
    "]\n",
    "\n",
    "# Task (map or filter)\n",
    "# Number letter in the name\n",
    "# [4, 8, 11, 15, 10, 4]\n",
    "\n",
    "# Task 1.1\n",
    "\n",
    "letters = map(lambda x: len(x), avengers)\n",
    "\n",
    "print(list(letters))"
   ]
  },
  {
   "cell_type": "code",
   "execution_count": null,
   "metadata": {},
   "outputs": [
    {
     "name": "stdout",
     "output_type": "stream",
     "text": [
      "['Black widow', 'Captain america']\n"
     ]
    }
   ],
   "source": [
    "# Task 1.2\n",
    "\n",
    "# Find longer names more the 10 letters name and stored in a new list\n",
    "\n",
    "#Output\n",
    "#[\"Black widow\", \"Captain america\"]\n",
    "\n",
    "# Task 1.2\n",
    "\n",
    "long_names = filter(lambda x: len(x) > 10, avengers)\n",
    "\n",
    "print(list(long_names))"
   ]
  },
  {
   "cell_type": "code",
   "execution_count": null,
   "metadata": {},
   "outputs": [
    {
     "name": "stdout",
     "output_type": "stream",
     "text": [
      "['Lillian Ellis', 'Debra Beard', 'Nettie Hancock']\n"
     ]
    }
   ],
   "source": [
    "from pprint import pprint\n",
    "\n",
    "# Task 1.3\n",
    "\n",
    "# Find the passed student's names (pass criteria >= 40)\n",
    "\n",
    "# Output [\"Lillian Ellis\", \"Debra Beard\", \"Nettie Hancock\" ]\n",
    "\n",
    "\n",
    "scores = [\n",
    "  {\n",
    "    \"marks\": 32,\n",
    "    \"name\": \"Yvette Merritt\",\n",
    "  },\n",
    "  {\n",
    "    \"marks\": 57,\n",
    "    \"name\": \"Lillian Ellis\",\n",
    "  },\n",
    "  {\n",
    "    \"marks\": 22,\n",
    "    \"name\": \"Mccall Carter\",\n",
    "  },\n",
    "  {\n",
    "    \"marks\": 21,\n",
    "    \"name\": \"Pate Collier\",\n",
    "  },\n",
    "  {\n",
    "    \"marks\": 91,\n",
    "    \"name\": \"Debra Beard\",\n",
    "  },\n",
    "  {\n",
    "    \"marks\": 75,\n",
    "    \"name\": \"Nettie Hancock\",\n",
    "  },\n",
    "  {\n",
    "    \"marks\": 20,\n",
    "    \"name\": \"Hatfield Hodge\",\n",
    "  },\n",
    "]\n",
    "\n",
    "# Task 1.3\n",
    "\n",
    "passed = filter(lambda score: score[\"marks\"] >= 40, scores)\n",
    "passed_names = map(lambda name: name[\"name\"], passed)\n",
    "\n",
    "print(list(passed_names))"
   ]
  },
  {
   "cell_type": "code",
   "execution_count": null,
   "metadata": {},
   "outputs": [
    {
     "name": "stdout",
     "output_type": "stream",
     "text": [
      "Debra Beard\n"
     ]
    }
   ],
   "source": [
    "# Task 1.4\n",
    "\n",
    "scores = [\n",
    "    {\n",
    "        \"marks\": 32,\n",
    "        \"name\": \"Yvette Merritt\",\n",
    "    },\n",
    "    {\n",
    "        \"marks\": 57,\n",
    "        \"name\": \"Lillian Ellis\",\n",
    "    },\n",
    "    {\n",
    "        \"marks\": 22,\n",
    "        \"name\": \"Mccall Carter\",\n",
    "    },\n",
    "    {\n",
    "        \"marks\": 21,\n",
    "        \"name\": \"Pate Collier\",\n",
    "    },\n",
    "    {\n",
    "        \"marks\": 91,\n",
    "        \"name\": \"Debra Beard\",\n",
    "    },\n",
    "    {\n",
    "        \"marks\": 75,\n",
    "        \"name\": \"Nettie Hancock\",\n",
    "    },\n",
    "    {\n",
    "        \"marks\": 20,\n",
    "        \"name\": \"Hatfield Hodge\",\n",
    "    },\n",
    "]\n",
    "\n",
    "# Task 1.4\n",
    "sorted_stus = sorted(scores, key=lambda x: x[\"marks\"], reverse=True)\n",
    "\n",
    "print(sorted_stus[0][\"name\"])"
   ]
  }
 ],
 "metadata": {
  "kernelspec": {
   "display_name": ".venv",
   "language": "python",
   "name": "python3"
  },
  "language_info": {
   "codemirror_mode": {
    "name": "ipython",
    "version": 3
   },
   "file_extension": ".py",
   "mimetype": "text/x-python",
   "name": "python",
   "nbconvert_exporter": "python",
   "pygments_lexer": "ipython3",
   "version": "3.13.2"
  }
 },
 "nbformat": 4,
 "nbformat_minor": 2
}
