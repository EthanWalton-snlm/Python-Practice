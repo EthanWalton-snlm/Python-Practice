{
 "cells": [
  {
   "cell_type": "markdown",
   "metadata": {},
   "source": [
    "# Global vs Nonlocal\n",
    "### Ethan Walton"
   ]
  },
  {
   "cell_type": "markdown",
   "metadata": {},
   "source": [
    "## Global\n",
    "\n",
    "- Say a variable is declared outside of a function `example()`\n",
    "  - A variable with the same name can also be declared inside the function `example()` with a different value.\n",
    "    - When this happens, the focus will be on the newly declared variable. See print line (1)\n",
    "- Now let us create a function within our function\n",
    "  - By using the `global` keyword in `example_inner()`, the focus will be switched to the variable declared outside the original function `example()`. See print line (2)\n",
    "  - And if we do not use `global`, like in `example_inner()`, the focus will remain with the variable declared inside `example()`. See print line (3)"
   ]
  },
  {
   "cell_type": "code",
   "execution_count": 54,
   "metadata": {},
   "outputs": [
    {
     "name": "stdout",
     "output_type": "stream",
     "text": [
      "(1) example() : x = 5\n",
      "(2) example_inner() : x = 0\n",
      "(3) example_inner2() : x = 5\n"
     ]
    }
   ],
   "source": [
    "x = 0\n",
    "\n",
    "def example():\n",
    "    x = 5\n",
    "\n",
    "    print(f\"(1) example() : x = {x}\")\n",
    "\n",
    "    def example_inner():\n",
    "        global x\n",
    "        print(f\"(2) example_inner() : x = {x}\")\n",
    "\n",
    "    def example_inner2():\n",
    "        print(f\"(3) example_inner2() : x = {x}\")\n",
    "\n",
    "    example_inner()\n",
    "    example_inner2()\n",
    "\n",
    "example()\n"
   ]
  },
  {
   "cell_type": "markdown",
   "metadata": {},
   "source": [
    "## Nonlocal\n",
    "\n",
    "- Nonlocal is slightly different.\n",
    "  - If we define `example_inner2()` inside of `example_inner()`, the `nonlocal` keyword will put the focus onto the variable in the scope of `example_inner()`, aka `example_inner2()`'s lexical scope. See print line (3)\n",
    "  - Note that `x=5` is never printed after print line (1), as it is outside of the closure (lexical + own scope of `example_inner2`)\n",
    "- For comparison, we can see that by using the `global` keyword in `example_inner3()`, the focus is shifted to `x=0` as it was the outermost decleration. See print line (2) vs (3)"
   ]
  },
  {
   "cell_type": "code",
   "execution_count": null,
   "metadata": {},
   "outputs": [
    {
     "name": "stdout",
     "output_type": "stream",
     "text": [
      "(1) example() : x = 5\n",
      "(2) example_inner2() : x = 10\n",
      "(3) example_inner3() : x = 0\n"
     ]
    }
   ],
   "source": [
    "x = 0\n",
    "\n",
    "\n",
    "def example():\n",
    "    x = 5\n",
    "\n",
    "    print(f\"(1) example() : x = {x}\")\n",
    "\n",
    "    def example_inner():\n",
    "        x = 10\n",
    "\n",
    "        def example_inner2():\n",
    "            nonlocal x\n",
    "\n",
    "            print(f\"(2) example_inner2() : x = {x}\")\n",
    "\n",
    "        def example_inner3():\n",
    "            global x\n",
    "\n",
    "            print(f\"(3) example_inner3() : x = {x}\")\n",
    "\n",
    "\n",
    "        example_inner2()\n",
    "        example_inner3()\n",
    "\n",
    "    example_inner()\n",
    "\n",
    "\n",
    "example()\n"
   ]
  }
 ],
 "metadata": {
  "kernelspec": {
   "display_name": ".venv",
   "language": "python",
   "name": "python3"
  },
  "language_info": {
   "codemirror_mode": {
    "name": "ipython",
    "version": 3
   },
   "file_extension": ".py",
   "mimetype": "text/x-python",
   "name": "python",
   "nbconvert_exporter": "python",
   "pygments_lexer": "ipython3",
   "version": "3.13.2"
  }
 },
 "nbformat": 4,
 "nbformat_minor": 2
}
