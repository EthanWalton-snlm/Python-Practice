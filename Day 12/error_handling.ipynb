{
 "cells": [
  {
   "cell_type": "markdown",
   "metadata": {},
   "source": [
    "## Exception/Error Handling"
   ]
  },
  {
   "cell_type": "code",
   "execution_count": 10,
   "metadata": {},
   "outputs": [
    {
     "name": "stdout",
     "output_type": "stream",
     "text": [
      "undefined\n"
     ]
    }
   ],
   "source": [
    "def math_div(n1, n2):\n",
    "    try:\n",
    "        result = n1 / n2\n",
    "    except ZeroDivisionError:\n",
    "        result = 'undefined'\n",
    "\n",
    "    return result\n",
    "\n",
    "def main():\n",
    "    print(math_div(10, 0))\n",
    "\n",
    "main()"
   ]
  },
  {
   "cell_type": "code",
   "execution_count": 19,
   "metadata": {},
   "outputs": [
    {
     "name": "stdout",
     "output_type": "stream",
     "text": [
      "Your age is 25\n"
     ]
    }
   ],
   "source": [
    "from datetime import datetime\n",
    "\n",
    "# Task 1.1\n",
    "\n",
    "def calculate_age(year):\n",
    "    age = datetime.now().year - int(year)\n",
    "    return f\"Your age is {age}\"\n",
    "\n",
    "birth_year = input(\"Please tell me your year of birth: \")\n",
    "\n",
    "print(calculate_age(birth_year))\n"
   ]
  },
  {
   "cell_type": "code",
   "execution_count": 23,
   "metadata": {},
   "outputs": [
    {
     "name": "stdout",
     "output_type": "stream",
     "text": [
      "Oopsies 🤦‍♂️ Please provide a 👉NUMERICAL👈 year\n"
     ]
    }
   ],
   "source": [
    "from datetime import datetime\n",
    "\n",
    "# Task 1.2\n",
    "# Handling Error\n",
    "\n",
    "def calculate_age(year):\n",
    "    try:\n",
    "        age = datetime.now().year - int(year)\n",
    "    except ValueError:\n",
    "        return \"Oopsies 🤦‍♂️ Please provide a 👉NUMERICAL👈 year\"\n",
    "\n",
    "    return f\"Your age is {age}\"\n",
    "\n",
    "\n",
    "birth_year = input(\"Please tell me your year of birth: \")\n",
    "\n",
    "print(calculate_age(birth_year))"
   ]
  },
  {
   "cell_type": "code",
   "execution_count": 32,
   "metadata": {},
   "outputs": [
    {
     "name": "stdout",
     "output_type": "stream",
     "text": [
      "❌ Invalid: You're not flash to be from the future 🚀\n"
     ]
    }
   ],
   "source": [
    "from datetime import datetime\n",
    "\n",
    "# Task 1.3\n",
    "# Handling Error\n",
    "\n",
    "\n",
    "def calculate_age(year):\n",
    "    try:\n",
    "        age = datetime.now().year - int(year)\n",
    "    except ValueError:\n",
    "        return \"Oopsies 🤦‍♂️ Please provide a 👉NUMERICAL👈 year\"\n",
    "    else:\n",
    "        try:\n",
    "            if int(year) < 0:\n",
    "                raise ValueError(\"Year cannot be negative\")\n",
    "            if int(year) > 2025:\n",
    "                raise ValueError(\"You're not flash to be from the future 🚀\")\n",
    "        except ValueError as err:\n",
    "            return f\"❌ Invalid: {err}\"\n",
    "        else:\n",
    "            return f\"Your age is {age}\"\n",
    "\n",
    "\n",
    "birth_year = input(\"Please tell me your year of birth: \")\n",
    "\n",
    "print(calculate_age(birth_year))\n"
   ]
  },
  {
   "cell_type": "markdown",
   "metadata": {},
   "source": [
    "## Custom Errors"
   ]
  },
  {
   "cell_type": "code",
   "execution_count": 33,
   "metadata": {},
   "outputs": [
    {
     "name": "stdout",
     "output_type": "stream",
     "text": [
      "❌ Invalid: -10 -> Negative numbers are not allowed\n"
     ]
    }
   ],
   "source": [
    "class NegativeNumberError(Exception):\n",
    "    def __init__(self, value):\n",
    "        self.value = value\n",
    "        self.message = \"Negative numbers are not allowed\"\n",
    "        super().__init__(self.message)\n",
    "\n",
    "    def __str__(self):\n",
    "        return f\"{self.value} -> {self.message}\"\n",
    "\n",
    "# Business Logical\n",
    "def only_positive_num():\n",
    "    try:\n",
    "        x = -10\n",
    "        if x < 0:\n",
    "            raise NegativeNumberError(x)\n",
    "\n",
    "    except NegativeNumberError as err:\n",
    "        print(f\"❌ Invalid: {err}\")\n",
    "\n",
    "only_positive_num()"
   ]
  },
  {
   "cell_type": "code",
   "execution_count": null,
   "metadata": {},
   "outputs": [],
   "source": []
  }
 ],
 "metadata": {
  "kernelspec": {
   "display_name": ".venv",
   "language": "python",
   "name": "python3"
  },
  "language_info": {
   "codemirror_mode": {
    "name": "ipython",
    "version": 3
   },
   "file_extension": ".py",
   "mimetype": "text/x-python",
   "name": "python",
   "nbconvert_exporter": "python",
   "pygments_lexer": "ipython3",
   "version": "3.13.2"
  }
 },
 "nbformat": 4,
 "nbformat_minor": 2
}
