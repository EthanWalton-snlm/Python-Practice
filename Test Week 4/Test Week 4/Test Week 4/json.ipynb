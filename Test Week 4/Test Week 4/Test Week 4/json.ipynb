{
 "cells": [
  {
   "cell_type": "code",
   "execution_count": null,
   "metadata": {},
   "outputs": [],
   "source": [
    "product_data = \"\"\"\n",
    "[\n",
    "    {\n",
    "        \"id\": 1,\n",
    "        \"name\": \"Wireless Headphones\",\n",
    "        \"category\": \"Electronics\",\n",
    "        \"inStock\": true,\n",
    "        \"price\": 199.99\n",
    "    },\n",
    "    {\n",
    "        \"id\": 2,\n",
    "        \"name\": \"Bluetooth Speaker\",\n",
    "        \"category\": \"Electronics\",\n",
    "        \"inStock\": false,\n",
    "        \"price\": 99.99\n",
    "    },\n",
    "    {\n",
    "        \"id\": 3,\n",
    "        \"name\": \"Smartwatch\",\n",
    "        \"category\": \"Wearables\",\n",
    "        \"inStock\": true,\n",
    "        \"price\": 149.99\n",
    "    }\n",
    "]\n",
    "\"\"\"\n"
   ]
  },
  {
   "cell_type": "markdown",
   "metadata": {},
   "source": [
    "## Task \n",
    "- For each product that is in stock, reduce the product's price by 7% (i.e., apply a discount) and round off to 2 decimal points.\n",
    "- Save the updated JSON data to a file named \"discounted_products.json\"."
   ]
  },
  {
   "cell_type": "code",
   "execution_count": 21,
   "metadata": {},
   "outputs": [],
   "source": [
    "import json\n",
    "\n",
    "DISCOUNT = 0.07\n",
    "product_data_json = json.loads(product_data)\n",
    "\n",
    "discounted_product_data = [{**product, \"price\":round(product[\"price\"] * (1 - DISCOUNT), 2)} if product[\"inStock\"] else {**product} for product in product_data_json]\n",
    "\n",
    "with open(\"discounted_products.json\", \"w\") as result:\n",
    "    result.write(json.dumps(discounted_product_data, indent=2))"
   ]
  }
 ],
 "metadata": {
  "kernelspec": {
   "display_name": ".venv",
   "language": "python",
   "name": "python3"
  },
  "language_info": {
   "codemirror_mode": {
    "name": "ipython",
    "version": 3
   },
   "file_extension": ".py",
   "mimetype": "text/x-python",
   "name": "python",
   "nbconvert_exporter": "python",
   "pygments_lexer": "ipython3",
   "version": "3.13.2"
  }
 },
 "nbformat": 4,
 "nbformat_minor": 2
}
