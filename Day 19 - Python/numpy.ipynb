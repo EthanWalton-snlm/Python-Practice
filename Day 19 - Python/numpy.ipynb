{
 "cells": [
  {
   "cell_type": "markdown",
   "metadata": {},
   "source": [
    "## Data Analyst\n",
    "\n",
    "- SQL\n",
    "- Power BI - Charts\n",
    "- Insights - Charts\n",
    "- One shot query\n",
    "\n",
    "## Data Scientist\n",
    "\n",
    "- Excel\n",
    "- Pyton - numpy, pandas\n",
    "- Scale - Millions of rows\n",
    "- Scikit - Data prediction\n",
    "- Matplot, seaborn - Charts - (rapid prototyping)\n",
    "- Line by line (Step)"
   ]
  },
  {
   "cell_type": "markdown",
   "metadata": {},
   "source": [
    "## Numpy\n",
    "\n",
    "- Working with arrays (1D)\n",
    "- Performant (compared Python List)\n",
    "- C Language\n",
    "- Staistical oriented - mean, median, mode"
   ]
  },
  {
   "cell_type": "code",
   "execution_count": 6,
   "metadata": {},
   "outputs": [],
   "source": [
    "import numpy as np"
   ]
  },
  {
   "cell_type": "markdown",
   "metadata": {},
   "source": [
    "## Numpy way to double an array"
   ]
  },
  {
   "cell_type": "code",
   "execution_count": 7,
   "metadata": {},
   "outputs": [
    {
     "name": "stdout",
     "output_type": "stream",
     "text": [
      "[180 160  40  80]\n"
     ]
    }
   ],
   "source": [
    "marks1 = np.array([90, 80, 20, 40])\n",
    "\n",
    "print(marks1*2)"
   ]
  },
  {
   "cell_type": "markdown",
   "metadata": {},
   "source": [
    "## Python way to double an array"
   ]
  },
  {
   "cell_type": "code",
   "execution_count": null,
   "metadata": {},
   "outputs": [
    {
     "name": "stdout",
     "output_type": "stream",
     "text": [
      "[180, 160, 40, 80]\n",
      "[5. 5. 5. 5. 5. 5. 5. 5. 5. 5. 5. 5. 5. 5. 5. 5. 5. 5. 5. 5.]\n",
      "[5. 5. 5. 5. 5. 5. 5. 5. 5. 5. 5. 5. 5. 5. 5. 5. 5. 5. 5. 5.]\n",
      "[ 1  2  3  4  5  6  7  8  9 10]\n"
     ]
    }
   ],
   "source": [
    "marks1 = [90, 80, 20, 40]\n",
    "\n",
    "print([x * 2 for x in marks1])\n"
   ]
  },
  {
   "cell_type": "markdown",
   "metadata": {},
   "source": [
    "## Working with numpy arrays"
   ]
  },
  {
   "cell_type": "code",
   "execution_count": 14,
   "metadata": {},
   "outputs": [
    {
     "name": "stdout",
     "output_type": "stream",
     "text": [
      "[5. 5. 5. 5. 5. 5. 5. 5. 5. 5. 5. 5. 5. 5. 5. 5. 5. 5. 5. 5.]\n"
     ]
    }
   ],
   "source": [
    "fives = np.ones(20) * 5\n",
    "\n",
    "print(fives)"
   ]
  },
  {
   "cell_type": "code",
   "execution_count": null,
   "metadata": {},
   "outputs": [
    {
     "name": "stdout",
     "output_type": "stream",
     "text": [
      "[ 1  2  3  4  5  6  7  8  9 10]\n"
     ]
    }
   ],
   "source": [
    "counting_to_ten = np.arange(1, 11)\n",
    "\n",
    "print(counting_to_ten)"
   ]
  },
  {
   "cell_type": "code",
   "execution_count": 17,
   "metadata": {},
   "outputs": [
    {
     "name": "stdout",
     "output_type": "stream",
     "text": [
      "[1 3 5 7 9]\n"
     ]
    }
   ],
   "source": [
    "odds = np.arange(1, 11, 2)\n",
    "\n",
    "print(odds)\n"
   ]
  },
  {
   "cell_type": "code",
   "execution_count": 30,
   "metadata": {},
   "outputs": [
    {
     "name": "stdout",
     "output_type": "stream",
     "text": [
      "[  0   2   4   6   8  10  12  14  16  18  20  22  24  26  28  30  32  34\n",
      "  36  38  40  42  44  46  48  50  52  54  56  58  60  62  64  66  68  70\n",
      "  72  74  76  78  80  82  84  86  88  90  92  94  96  98 100 102 104 106\n",
      " 108 110 112 114 116 118 120 122 124 126 128 130 132 134 136 138 140 142\n",
      " 144 146 148 150 152 154 156 158 160 162 164 166 168 170 172 174 176 178\n",
      " 180 182 184 186 188 190 192 194 196 198 200]\n"
     ]
    }
   ],
   "source": [
    "input = np.arange(0, 201, 2)\n",
    "\n",
    "print(input)\n"
   ]
  },
  {
   "cell_type": "code",
   "execution_count": 31,
   "metadata": {},
   "outputs": [
    {
     "name": "stdout",
     "output_type": "stream",
     "text": [
      "[  2   4   6   8  10  12  14  16  18  20  22  24  26  28  30  32  34  36\n",
      "  38  40  42  44  46  48  50  52  54  56  58  60  62  64  66  68  70  72\n",
      "  74  76  78  80  82  84  86  88  90  92  94  96  98 100 102 104 106 108\n",
      " 110 112 114 116 118 120 122 124 126 128 130 132 134 136 138 140 142 144\n",
      " 146 148 150 152 154 156 158 160 162 164 166 168 170 172 174 176 178 180\n",
      " 182 184 186 188 190 192 194 196 198 200]\n"
     ]
    }
   ],
   "source": [
    "input = np.arange(2,201)\n",
    "\n",
    "print(input[input % 2 == 0])"
   ]
  },
  {
   "cell_type": "code",
   "execution_count": 103,
   "metadata": {},
   "outputs": [
    {
     "name": "stdout",
     "output_type": "stream",
     "text": [
      "[31 34 52 75 53 30 53 55 47 79 54 27 62 28 68 59 32 37 27 20 43 50 52 26\n",
      " 76 35 76 64 73 24 28 68 41 31 67 72 56 55 51 20 46 60 53 44 29 48 36 74\n",
      " 65 24]\n",
      "[31, 34, 52, 75, 53, 30, 53, 55, 47, 79, 54, 27, 62, 28, 68, 59, 32, 37, 27, 20, 43, 50, 52, 26, 76, 35, 76, 64, 73, 24, 28, 68, 41, 31, 67, 72, 56, 55, 51, 20, 46, 60, 53, 44, 29, 48, 36, 74, 65, 24]\n"
     ]
    }
   ],
   "source": [
    "ages = np.random.randint(18, 80, 50)\n",
    "\n",
    "print(ages)\n",
    "\n",
    "ages_list = ages.tolist()\n",
    "\n",
    "print(ages_list)"
   ]
  },
  {
   "cell_type": "code",
   "execution_count": 106,
   "metadata": {},
   "outputs": [
    {
     "name": "stdout",
     "output_type": "stream",
     "text": [
      "[31 34 52 75 53 30 53 55 47 79 54 27 62 28 68 59 32 37 27 43 50 52 26 76\n",
      " 35 76 64 73 28 68 41 31 67 72 56 55 51 46 60 53 44 29 48 36 74 65]\n"
     ]
    }
   ],
   "source": [
    "print(ages[ages > 25])\n"
   ]
  },
  {
   "cell_type": "markdown",
   "metadata": {},
   "source": [
    "## Performance\n",
    "\n",
    "- Numpy arrays are 100-1000 times the performance of python list\n",
    "- %%time - time operation"
   ]
  },
  {
   "cell_type": "code",
   "execution_count": null,
   "metadata": {},
   "outputs": [],
   "source": [
    "ages = np.random.randint(18, 60, 500_000)\n",
    "ages_list = ages.tolist()"
   ]
  },
  {
   "cell_type": "code",
   "execution_count": 123,
   "metadata": {},
   "outputs": [
    {
     "name": "stdout",
     "output_type": "stream",
     "text": [
      "CPU times: total: 0 ns\n",
      "Wall time: 10.3 μs\n"
     ]
    }
   ],
   "source": [
    "%%time\n",
    "ages_list = [age *2 for age in ages_list]"
   ]
  },
  {
   "cell_type": "code",
   "execution_count": 118,
   "metadata": {},
   "outputs": [
    {
     "name": "stdout",
     "output_type": "stream",
     "text": [
      "CPU times: total: 0 ns\n",
      "Wall time: 1.08 ms\n"
     ]
    },
    {
     "data": {
      "text/plain": [
       "array([ 88,  66, 108, ...,  92,  80,  66], shape=(500000,), dtype=int32)"
      ]
     },
     "execution_count": 118,
     "metadata": {},
     "output_type": "execute_result"
    }
   ],
   "source": [
    "%%time\n",
    "ages * 2"
   ]
  },
  {
   "cell_type": "markdown",
   "metadata": {},
   "source": [
    "### Task 1\n",
    "At the every year tell me balance for 10 years\n",
    "Clue: General formula\n",
    "1102.5 -> 1000 +\n",
    "[1050, 1102.5 ...., ]"
   ]
  },
  {
   "cell_type": "code",
   "execution_count": 169,
   "metadata": {},
   "outputs": [
    {
     "data": {
      "text/plain": [
       "array([1050.        , 1102.5       , 1157.625     , 1215.50625   ,\n",
       "       1276.2815625 , 1340.09564063, 1407.10042266, 1477.45544379,\n",
       "       1551.32821598, 1628.89462678])"
      ]
     },
     "execution_count": 169,
     "metadata": {},
     "output_type": "execute_result"
    }
   ],
   "source": [
    "# interest = 1.05\n",
    "# new_amount = 1000.00\n",
    "\n",
    "# for i in range(1,11):\n",
    "#     new_amount = new_amount*interest\n",
    "#     print(f\"Year {i}: R{new_amount:.2f} -> R{new_amount:.2f}\")\n",
    "\n",
    "# Task 2\n",
    "\n",
    "# def interest_each_year(P, r):\n",
    "#     old_amt = 1000\n",
    "#     res = []\n",
    "\n",
    "#     for t in range(1,11):\n",
    "#         res.append(old_amt)\n",
    "\n",
    "#         amt = P * ((1 + r)**t) - P\n",
    "\n",
    "#         print(f\"Year {t}: R{old_amt:.2f} -> R{P + amt:.2f}\")\n",
    "\n",
    "#         old_amt = P + amt\n",
    "\n",
    "#     return res\n",
    "\n",
    "# print(interest_each_year(1000, 0.05))\n",
    "\n",
    "investment = 1_000\n",
    "rate = 1.05\n",
    "\n",
    "years = np.arange(1, 11)\n",
    "\n",
    "interest_each_year = investment * rate ** years\n",
    "\n",
    "interest_each_year\n"
   ]
  },
  {
   "cell_type": "code",
   "execution_count": 174,
   "metadata": {},
   "outputs": [
    {
     "name": "stdout",
     "output_type": "stream",
     "text": [
      "R1628.89\n"
     ]
    }
   ],
   "source": [
    "# def interest_after_years(interest, total_years, starting_amt):\n",
    "#     print(f\"Year {total_years}: R{starting_amt * np.power(1 + interest, total_years):.2f}\")\n",
    "\n",
    "# interest_after_years(0.05, 10, 1000)\n",
    "\n",
    "print(f\"R{interest_each_year[-1]:.2f}\")"
   ]
  },
  {
   "cell_type": "code",
   "execution_count": 175,
   "metadata": {},
   "outputs": [
    {
     "name": "stdout",
     "output_type": "stream",
     "text": [
      "62.89%\n"
     ]
    }
   ],
   "source": [
    "# def increase_after_years(interest, total_years, starting_amt):\n",
    "#     print(f\"{(starting_amt * np.power(1 + interest, total_years)) / starting_amt * 100:.2f}%\")\n",
    "\n",
    "# increase_after_years(0.05, 10, 1000)\n",
    "\n",
    "print(f\"{(interest_each_year[-1]-1000)/investment*100:.2f}%\")"
   ]
  },
  {
   "cell_type": "code",
   "execution_count": 176,
   "metadata": {},
   "outputs": [
    {
     "data": {
      "text/plain": [
       "array([1, 2, 3], dtype=int32)"
      ]
     },
     "execution_count": 176,
     "metadata": {},
     "output_type": "execute_result"
    }
   ],
   "source": [
    "nums = np.random.randint(1, 4, 10)\n",
    "\n",
    "np.unique(nums)\n"
   ]
  },
  {
   "cell_type": "code",
   "execution_count": 189,
   "metadata": {},
   "outputs": [],
   "source": [
    "hourly_visitors = np.array([468, 279, 73, 272, 406, 128, 302, 216, 140, 82])"
   ]
  },
  {
   "cell_type": "code",
   "execution_count": null,
   "metadata": {},
   "outputs": [
    {
     "name": "stdout",
     "output_type": "stream",
     "text": [
      "Total visitors in the day: 2366\n"
     ]
    }
   ],
   "source": [
    "# Task 1.1\n",
    "\n",
    "print(f\"Total visitors in the day: {np.sum(hourly_visitors)}\")"
   ]
  },
  {
   "cell_type": "code",
   "execution_count": 188,
   "metadata": {},
   "outputs": [
    {
     "name": "stdout",
     "output_type": "stream",
     "text": [
      "Peak hour: 1\n"
     ]
    }
   ],
   "source": [
    "# Task 1.2\n",
    "\n",
    "print(f\"Peak hour: {np.argmax(hourly_visitors) + 1}\")"
   ]
  },
  {
   "cell_type": "code",
   "execution_count": 186,
   "metadata": {},
   "outputs": [
    {
     "name": "stdout",
     "output_type": "stream",
     "text": [
      "Average people visit: 237\n"
     ]
    }
   ],
   "source": [
    "# Task 1.3\n",
    "\n",
    "print(f\"Average people visit: {int(np.ceil(np.mean(hourly_visitors)))}\")"
   ]
  },
  {
   "cell_type": "code",
   "execution_count": 218,
   "metadata": {},
   "outputs": [],
   "source": [
    "items = np.array(\n",
    "    [\n",
    "        \" Apple\",\n",
    "        \"banana \",\n",
    "        \"GRAPE\",\n",
    "        \"cucumber\",\n",
    "        \"Pineapple\",\n",
    "        \" tomato \",\n",
    "        \"Orange\",\n",
    "        \" lemon\",\n",
    "        \"Kiwi \",\n",
    "        \"mango\",\n",
    "        \"blueberry \",\n",
    "        \" raspberry\",\n",
    "    ]\n",
    ")\n"
   ]
  },
  {
   "cell_type": "code",
   "execution_count": 219,
   "metadata": {},
   "outputs": [
    {
     "data": {
      "text/plain": [
       "array(['Apple', 'banana', 'GRAPE', 'cucumber', 'Pineapple', 'tomato',\n",
       "       'Orange', 'lemon', 'Kiwi', 'mango', 'blueberry', 'raspberry'],\n",
       "      dtype='<U10')"
      ]
     },
     "execution_count": 219,
     "metadata": {},
     "output_type": "execute_result"
    }
   ],
   "source": [
    "# Task 2.1\n",
    "\n",
    "items = np.strings.strip(items)\n",
    "\n",
    "items"
   ]
  },
  {
   "cell_type": "code",
   "execution_count": 220,
   "metadata": {},
   "outputs": [
    {
     "data": {
      "text/plain": [
       "array(['apple', 'banana', 'grape', 'cucumber', 'pineapple', 'tomato',\n",
       "       'orange', 'lemon', 'kiwi', 'mango', 'blueberry', 'raspberry'],\n",
       "      dtype='<U10')"
      ]
     },
     "execution_count": 220,
     "metadata": {},
     "output_type": "execute_result"
    }
   ],
   "source": [
    "items = np.strings.lower(items)\n",
    "\n",
    "items"
   ]
  },
  {
   "cell_type": "code",
   "execution_count": 221,
   "metadata": {},
   "outputs": [
    {
     "data": {
      "text/plain": [
       "array(['apple', 'banana', 'blueberry', 'cucumber', 'grape', 'kiwi',\n",
       "       'lemon', 'mango', 'orange', 'pineapple', 'raspberry', 'tomato'],\n",
       "      dtype='<U10')"
      ]
     },
     "execution_count": 221,
     "metadata": {},
     "output_type": "execute_result"
    }
   ],
   "source": [
    "items = np.unique(items)\n",
    "\n",
    "items"
   ]
  },
  {
   "cell_type": "code",
   "execution_count": 223,
   "metadata": {},
   "outputs": [
    {
     "name": "stdout",
     "output_type": "stream",
     "text": [
      "['banana' 'blueberry']\n"
     ]
    }
   ],
   "source": [
    "# Task 3.1\n",
    "\n",
    "b = np.strings.startswith(items, 'b')\n",
    "\n",
    "print(items[b])"
   ]
  },
  {
   "cell_type": "code",
   "execution_count": 240,
   "metadata": {},
   "outputs": [
    {
     "name": "stdout",
     "output_type": "stream",
     "text": [
      "['apple' 'cucumber' 'grape' 'lemon' 'orange' 'raspberry']\n"
     ]
    }
   ],
   "source": [
    "# Task 3.2\n",
    "\n",
    "b = np.strings.count(items, 'e')\n",
    "\n",
    "print(items[b == 1])"
   ]
  },
  {
   "cell_type": "markdown",
   "metadata": {},
   "source": [
    "## 2D Matrix / Arrays"
   ]
  },
  {
   "cell_type": "code",
   "execution_count": 243,
   "metadata": {},
   "outputs": [],
   "source": [
    "num_3x3 = np.array([\n",
    "    [1,3,4],\n",
    "    [6,10,77],\n",
    "    [9,20,24]\n",
    "])"
   ]
  },
  {
   "cell_type": "code",
   "execution_count": 245,
   "metadata": {},
   "outputs": [
    {
     "data": {
      "text/plain": [
       "(3, 3)"
      ]
     },
     "execution_count": 245,
     "metadata": {},
     "output_type": "execute_result"
    }
   ],
   "source": [
    "num_3x3.shape"
   ]
  },
  {
   "cell_type": "code",
   "execution_count": 246,
   "metadata": {},
   "outputs": [
    {
     "data": {
      "text/plain": [
       "array([[  2,   6,   8],\n",
       "       [ 12,  20, 154],\n",
       "       [ 18,  40,  48]])"
      ]
     },
     "execution_count": 246,
     "metadata": {},
     "output_type": "execute_result"
    }
   ],
   "source": [
    "num_3x3 * 2"
   ]
  },
  {
   "cell_type": "code",
   "execution_count": 247,
   "metadata": {},
   "outputs": [
    {
     "data": {
      "text/plain": [
       "array([[-1,  1,  2],\n",
       "       [ 4,  8, 75],\n",
       "       [ 7, 18, 22]])"
      ]
     },
     "execution_count": 247,
     "metadata": {},
     "output_type": "execute_result"
    }
   ],
   "source": [
    "num_3x3 - 2"
   ]
  }
 ],
 "metadata": {
  "kernelspec": {
   "display_name": ".venv",
   "language": "python",
   "name": "python3"
  },
  "language_info": {
   "codemirror_mode": {
    "name": "ipython",
    "version": 3
   },
   "file_extension": ".py",
   "mimetype": "text/x-python",
   "name": "python",
   "nbconvert_exporter": "python",
   "pygments_lexer": "ipython3",
   "version": "3.13.2"
  }
 },
 "nbformat": 4,
 "nbformat_minor": 2
}
