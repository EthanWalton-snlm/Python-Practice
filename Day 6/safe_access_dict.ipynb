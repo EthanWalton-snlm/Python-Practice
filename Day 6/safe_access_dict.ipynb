{
 "cells": [
  {
   "cell_type": "code",
   "execution_count": 20,
   "metadata": {},
   "outputs": [
    {
     "name": "stdout",
     "output_type": "stream",
     "text": [
      "Steve Rogers 🦸‍♂️ lives in Brooklyn\n",
      "Peter Parker's location is Top Secret 🔒\n",
      "Bruce Banner's location is Top Secret 🔒\n"
     ]
    }
   ],
   "source": [
    "captain_america = {\n",
    "    \"name\": \"Steve Rogers 🦸‍♂️\",\n",
    "    \"age\": 100,\n",
    "    \"height\": 185,\n",
    "    \"address\": {\"city\": \"Brooklyn\", \"country\": \"US\"},\n",
    "}\n",
    "\n",
    "\n",
    "spiderman = {\n",
    "    \"name\": \"Peter Parker\",\n",
    "    \"age\": 18,\n",
    "    \"team_name\": \"Avengers\",\n",
    "    \"team\": [\"Iron Man\", \"Thor\", \"Hulk\", \"Captain America\"],\n",
    "}\n",
    "\n",
    "hulk = {\n",
    "    \"name\": \"Bruce Banner\",\n",
    "    \"age\": 35,\n",
    "}\n",
    "\n",
    "heroes = [captain_america, spiderman, hulk]\n",
    "\n",
    "# Output\n",
    "# Steve Rogers 🦸‍♂️ lives in Brooklyn\n",
    "# Peter Parker location is Top Secret 🔒\n",
    "# Bruce Banner location is Top Secret 🔒\n",
    "\n",
    "for hero in heroes:\n",
    "    city = hero.get(\"address\", {}).get(\"city\")\n",
    "\n",
    "    print(\n",
    "        f\"{hero['name']} lives in {city}\"\n",
    "        if city\n",
    "        else f\"{hero['name']}'s location is Top Secret 🔒\"\n",
    "    )\n",
    "\n",
    "# for hero in heroes:\n",
    "#     try:\n",
    "#         city = hero.get(\"address\").get(\"city\")\n",
    "#         print(f\"{hero[\"name\"]} lives in {city}\")\n",
    "#     except:\n",
    "#         print(f\"{hero['name']}'s location is Top Secret 🔒\")"
   ]
  },
  {
   "cell_type": "code",
   "execution_count": null,
   "metadata": {},
   "outputs": [
    {
     "name": "stdout",
     "output_type": "stream",
     "text": [
      "[{'name': 'Chelo', 'experience': 3}, {'name': 'Diyali', 'experience': 1}, {'name': 'Luvuyo', 'experience': 1}, {'name': 'Jevan', 'experience': 2}]\n"
     ]
    }
   ],
   "source": [
    "# Task 2.1\n",
    "\n",
    "employees = [\n",
    "    {\"name\": \"Chelo\", \"experience\": 2},\n",
    "    {\n",
    "        \"name\": \"Diyali\",\n",
    "    },\n",
    "    {\n",
    "        \"name\": \"Luvuyo\",\n",
    "    },\n",
    "    {\"name\": \"Jevan\", \"experience\": 1},\n",
    "]\n",
    "\n",
    "\n",
    "for employee in employees:\n",
    "    employee[\"experience\"] = employee.get(\"experience\", 0) + 1\n",
    "print(employees)"
   ]
  },
  {
   "cell_type": "code",
   "execution_count": null,
   "metadata": {},
   "outputs": [
    {
     "data": {
      "text/plain": [
       "[{'name': 'Chelo', 'experience': 5, 'status': 'Senior'},\n",
       " {'name': 'Diyali', 'experience': 1, 'status': 'Junior'},\n",
       " {'name': 'Luvuyo', 'experience': 1, 'status': 'Junior'},\n",
       " {'name': 'Jevan', 'experience': 3, 'status': 'Mid-Level'}]"
      ]
     },
     "execution_count": 32,
     "metadata": {},
     "output_type": "execute_result"
    }
   ],
   "source": [
    "# Task 2.2\n",
    "# Senior 5 or more, Mid-Level 3 to 5, Junior < 3\n",
    "employees = [\n",
    "    {\"name\": \"Chelo\", \"experience\": 4},\n",
    "    {\n",
    "        \"name\": \"Diyali\",\n",
    "    },\n",
    "    {\n",
    "        \"name\": \"Luvuyo\",\n",
    "    },\n",
    "    {\"name\": \"Jevan\", \"experience\": 2},\n",
    "]\n",
    "\n",
    "for employee in employees:\n",
    "    employee[\"experience\"] = employee.get(\"experience\", 0) + 1\n",
    "\n",
    "    # Normal Way\n",
    "    if employee[\"experience\"] < 3:\n",
    "        employee[\"status\"] = \"Junior\"\n",
    "    elif employee[\"experience\"] < 5:\n",
    "        employee[\"status\"] = \"Mid-Level\"\n",
    "    else:\n",
    "        employee[\"status\"] = \"Senior\"\n",
    "\n",
    "    # # Ternary Way\n",
    "    # employee[\"status\"] = (\n",
    "    #     \"Junior\"\n",
    "    #     if employee[\"experience\"] < 3\n",
    "    #     else (\"Mid-Level\" if employee[\"experience\"] < 5 else \"Senior\")\n",
    "    # )\n",
    "\n",
    "employees\n",
    "\n",
    "# # Output\n",
    "# employees = [\n",
    "#     {\"name\": \"Chelo\", \"experience\": 5, \"status\": \"Senior\"},\n",
    "#     {\"name\": \"Diyali\", \"status\": \"Junior\", \"experience\": 1},\n",
    "#     {\"name\": \"Luvuyo\", \"status\": \"Junior\", \"experience\": 1},\n",
    "#     {\"name\": \"Jevan\", \"status\": \"Mid-Level\", \"experience\": 3},\n",
    "# ]\n"
   ]
  }
 ],
 "metadata": {
  "kernelspec": {
   "display_name": ".venv",
   "language": "python",
   "name": "python3"
  },
  "language_info": {
   "codemirror_mode": {
    "name": "ipython",
    "version": 3
   },
   "file_extension": ".py",
   "mimetype": "text/x-python",
   "name": "python",
   "nbconvert_exporter": "python",
   "pygments_lexer": "ipython3",
   "version": "3.13.2"
  }
 },
 "nbformat": 4,
 "nbformat_minor": 2
}
