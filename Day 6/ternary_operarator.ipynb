{
 "cells": [
  {
   "cell_type": "markdown",
   "metadata": {},
   "source": [
    "Falsy\n",
    "If a value converts to false then its Falsy\n",
    "\n",
    "1. False\n",
    "2. None\n",
    "3. 0\n",
    "4. []\n",
    "5. \"\"\n",
    "6. {}\n",
    "7. ()\n",
    "8. set()\n",
    "\n",
    "Truthy\n",
    "If it is not on the above list"
   ]
  },
  {
   "cell_type": "code",
   "execution_count": 6,
   "metadata": {},
   "outputs": [
    {
     "name": "stdout",
     "output_type": "stream",
     "text": [
      "Eligible\n"
     ]
    }
   ],
   "source": [
    "age = 18\n",
    "\n",
    "if age >= 18:\n",
    "    print(\"Eligible\")\n",
    "else:\n",
    "    print(\"Go away\")"
   ]
  },
  {
   "cell_type": "code",
   "execution_count": 10,
   "metadata": {},
   "outputs": [
    {
     "name": "stdout",
     "output_type": "stream",
     "text": [
      "Eligible\n",
      "Go away\n"
     ]
    }
   ],
   "source": [
    "age = 19\n",
    "\n",
    "result = \"Eligible\" if age >= 18 else \"Go away\"\n",
    "print(result)\n",
    "\n",
    "age = 17\n",
    "\n",
    "result = \"Eligible\" if age >= 18 else \"Go away\"\n",
    "print(result)\n"
   ]
  }
 ],
 "metadata": {
  "kernelspec": {
   "display_name": ".venv",
   "language": "python",
   "name": "python3"
  },
  "language_info": {
   "codemirror_mode": {
    "name": "ipython",
    "version": 3
   },
   "file_extension": ".py",
   "mimetype": "text/x-python",
   "name": "python",
   "nbconvert_exporter": "python",
   "pygments_lexer": "ipython3",
   "version": "3.13.2"
  }
 },
 "nbformat": 4,
 "nbformat_minor": 2
}
