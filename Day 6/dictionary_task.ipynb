{
 "cells": [
  {
   "cell_type": "code",
   "execution_count": null,
   "metadata": {},
   "outputs": [],
   "source": [
    "inventory = [\n",
    "    {\"name\": \"Apple 🍎\", \"quantity\": 30, \"price\": 0.50},\n",
    "    {\"name\": \"Banana 🍌\", \"quantity\": 20, \"price\": 0.20},\n",
    "]\n",
    "\n",
    "item_name = input(\"What is the product name?\")\n",
    "item_qty = int(input(\"What is the quantity?\"))\n",
    "item_price = float(input(\"What is the price?\"))\n",
    "\n",
    "print(item_name)\n",
    "print(item_qty)\n",
    "print(item_price)\n",
    "\n",
    "product = {\"name\": item_name, \"quantity\": item_qty, \"price\": item_price}\n",
    "inventory.append(product)\n",
    "\n",
    "inventory\n"
   ]
  },
  {
   "cell_type": "code",
   "execution_count": null,
   "metadata": {},
   "outputs": [
    {
     "name": "stdout",
     "output_type": "stream",
     "text": [
      "Chips\n",
      "3\n",
      "56.4\n"
     ]
    },
    {
     "data": {
      "text/plain": [
       "[{'name': 'Apple 🍎', 'quantity': 30, 'price': 0.5},\n",
       " {'name': 'Banana 🍌', 'quantity': 20, 'price': 0.2},\n",
       " {'name': 'Chips', 'quantity': 3, 'price': 56.4}]"
      ]
     },
     "execution_count": 2,
     "metadata": {},
     "output_type": "execute_result"
    }
   ],
   "source": [
    "# Task 1.1\n",
    "\n",
    "inventory = [\n",
    "    {\"name\": \"Apple 🍎\", \"quantity\": 30, \"price\": 0.50},\n",
    "    {\"name\": \"Banana 🍌\", \"quantity\": 20, \"price\": 0.20},\n",
    "]\n",
    "\n",
    "proceed = \"Y\"\n",
    "\n",
    "while proceed.lower() != \"n\":\n",
    "    item_name = input(\"What is the product name?\")\n",
    "    item_qty = int(input(\"What is the quantity?\"))\n",
    "    item_price = float(input(\"What is the price?\"))\n",
    "\n",
    "    product = {\"name\": item_name, \"quantity\": item_qty, \"price\": item_price}\n",
    "    inventory.append(product)\n",
    "\n",
    "    proceed = input(\"Would you like to add another product? (Y/N): \")\n",
    "\n",
    "inventory"
   ]
  }
 ],
 "metadata": {
  "kernelspec": {
   "display_name": ".venv",
   "language": "python",
   "name": "python3"
  },
  "language_info": {
   "codemirror_mode": {
    "name": "ipython",
    "version": 3
   },
   "file_extension": ".py",
   "mimetype": "text/x-python",
   "name": "python",
   "nbconvert_exporter": "python",
   "pygments_lexer": "ipython3",
   "version": "3.13.2"
  }
 },
 "nbformat": 4,
 "nbformat_minor": 2
}
