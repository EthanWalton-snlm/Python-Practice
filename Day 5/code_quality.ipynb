{
 "cells": [
  {
   "cell_type": "markdown",
   "metadata": {},
   "source": [
    "# 5 pillars of code quality\n",
    "\n",
    "1. Readability\n",
    "     - Spend 75% time reading code as a dev\n",
    "     - Code communicates idea to other devs\n",
    "     - Long Maintainability\n",
    "2. Maintainability\n",
    "   - Modular\n",
    "   - Scalable\n",
    "3. Extensibility - Adding features must be easy\n",
    "   - Camera - change lens\n",
    "4. Testability - Easily testable\n",
    "5. Performance\n",
    "   - Don't sacrifice readability for performance"
   ]
  },
  {
   "cell_type": "markdown",
   "metadata": {},
   "source": [
    "## Code Debt\n",
    "\n",
    "Promise you will make the code better tomorrow, but tomorrow never comes.\n",
    "\n",
    "Start-ups:\n",
    "- Code Debt ⬆️\n",
    "- Time ⬇️\n",
    "- Ideas ⬆️"
   ]
  }
 ],
 "metadata": {
  "language_info": {
   "name": "python"
  }
 },
 "nbformat": 4,
 "nbformat_minor": 2
}
