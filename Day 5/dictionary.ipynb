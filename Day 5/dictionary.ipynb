{
 "cells": [
  {
   "cell_type": "markdown",
   "metadata": {},
   "source": [
    "# Dictionary\n",
    "\n",
    "- Store mixed data types & multiple values\n",
    "- Key & Value pairs"
   ]
  },
  {
   "cell_type": "code",
   "execution_count": 1,
   "metadata": {},
   "outputs": [],
   "source": [
    "spiderman = {\n",
    "    \"name\":\"Peter Parker\",\n",
    "    \"age\":18,\n",
    "    \"team_name\":\"Avengers\",\n",
    "    \"team\":[\"Iron Man\", \"Thor\", \"Hulk\",\"Ethan Walton\"]\n",
    "}"
   ]
  },
  {
   "cell_type": "code",
   "execution_count": 2,
   "metadata": {},
   "outputs": [
    {
     "data": {
      "text/plain": [
       "'Peter Parker'"
      ]
     },
     "execution_count": 2,
     "metadata": {},
     "output_type": "execute_result"
    }
   ],
   "source": [
    "spiderman[\"name\"]"
   ]
  },
  {
   "cell_type": "code",
   "execution_count": 3,
   "metadata": {},
   "outputs": [
    {
     "data": {
      "text/plain": [
       "'Hulk'"
      ]
     },
     "execution_count": 3,
     "metadata": {},
     "output_type": "execute_result"
    }
   ],
   "source": [
    "spiderman[\"team\"][2]"
   ]
  },
  {
   "cell_type": "markdown",
   "metadata": {},
   "source": [
    "## Dictionary Methods\n",
    "1. `keys()`\n",
    "2. `values()`\n",
    "3. `items()`"
   ]
  },
  {
   "cell_type": "code",
   "execution_count": 4,
   "metadata": {},
   "outputs": [
    {
     "data": {
      "text/plain": [
       "dict_keys(['name', 'age', 'team_name', 'team'])"
      ]
     },
     "execution_count": 4,
     "metadata": {},
     "output_type": "execute_result"
    }
   ],
   "source": [
    "spiderman.keys()"
   ]
  },
  {
   "cell_type": "markdown",
   "metadata": {},
   "source": [
    "### Looping with key and value"
   ]
  },
  {
   "cell_type": "code",
   "execution_count": 5,
   "metadata": {},
   "outputs": [
    {
     "name": "stdout",
     "output_type": "stream",
     "text": [
      "name Peter Parker\n",
      "age 18\n",
      "team_name Avengers\n",
      "team ['Iron Man', 'Thor', 'Hulk', 'Ethan Walton']\n",
      "name Peter Parker\n",
      "age 18\n",
      "team_name Avengers\n",
      "team ['Iron Man', 'Thor', 'Hulk', 'Ethan Walton']\n",
      "name Peter Parker\n",
      "age 18\n",
      "team_name Avengers\n",
      "team ['Iron Man', 'Thor', 'Hulk', 'Ethan Walton']\n"
     ]
    }
   ],
   "source": [
    "for key in spiderman.keys():\n",
    "    print(key, spiderman[key])\n",
    "\n",
    "for key in spiderman:\n",
    "    print(key, spiderman[key])\n",
    "\n",
    "for key, val in spiderman.items():\n",
    "    print(key, val)"
   ]
  },
  {
   "cell_type": "code",
   "execution_count": 6,
   "metadata": {},
   "outputs": [
    {
     "name": "stdout",
     "output_type": "stream",
     "text": [
      "['Infinite Jest', 'The Catcher in the Rye', 'Sapiens', 'A Brief History of Time', 'Clean Code']\n"
     ]
    }
   ],
   "source": [
    "# Task 1.1\n",
    "\n",
    "books = [\n",
    "    {\"title\": \"Infinite Jest\", \"rating\": 4.5, \"genre\": \"Fiction\"},\n",
    "    {\"title\": \"The Catcher in the Rye\", \"rating\": 3.9, \"genre\": \"Fiction\"},\n",
    "    {\"title\": \"Sapiens\", \"rating\": 4.9, \"genre\": \"History\"},\n",
    "    {\"title\": \"A Brief History of Time\", \"rating\": 4.8, \"genre\": \"Science\"},\n",
    "    {\"title\": \"Clean Code\", \"rating\": 4.7, \"genre\": \"Technology\"},\n",
    "]\n",
    "\n",
    "titles = []\n",
    "\n",
    "for book in books:\n",
    "    titles.append(book[\"title\"])\n",
    "\n",
    "print(titles)"
   ]
  },
  {
   "cell_type": "code",
   "execution_count": 7,
   "metadata": {},
   "outputs": [
    {
     "name": "stdout",
     "output_type": "stream",
     "text": [
      "['Infinite Jest', 'The Catcher in the Rye']\n"
     ]
    }
   ],
   "source": [
    "# Task 1.2\n",
    "\n",
    "books = [\n",
    "    {\"title\": \"Infinite Jest\", \"rating\": 4.5, \"genre\": \"Fiction\"},\n",
    "    {\"title\": \"The Catcher in the Rye\", \"rating\": 3.9, \"genre\": \"Fiction\"},\n",
    "    {\"title\": \"Sapiens\", \"rating\": 4.9, \"genre\": \"History\"},\n",
    "    {\"title\": \"A Brief History of Time\", \"rating\": 4.8, \"genre\": \"Science\"},\n",
    "    {\"title\": \"Clean Code\", \"rating\": 4.7, \"genre\": \"Technology\"},\n",
    "]\n",
    "\n",
    "titles = []\n",
    "\n",
    "for book in books:\n",
    "    if book[\"genre\"] == \"Fiction\":\n",
    "        titles.append(book[\"title\"])\n",
    "\n",
    "print(titles)\n"
   ]
  },
  {
   "cell_type": "code",
   "execution_count": 12,
   "metadata": {},
   "outputs": [
    {
     "name": "stdout",
     "output_type": "stream",
     "text": [
      "Highest rated books are: Sapiens, A Brief History of Time and Clean Code\n"
     ]
    }
   ],
   "source": [
    "# Task 1.3\n",
    "\n",
    "books = [\n",
    "    {\"title\": \"Infinite Jest\", \"rating\": 4.5, \"genre\": \"Fiction\"},\n",
    "    {\"title\": \"The Catcher in the Rye\", \"rating\": 3.9, \"genre\": \"Fiction\"},\n",
    "    {\"title\": \"Sapiens\", \"rating\": 4.9, \"genre\": \"History\"},\n",
    "    {\"title\": \"A Brief History of Time\", \"rating\": 4.8, \"genre\": \"Science\"},\n",
    "    {\"title\": \"Clean Code\", \"rating\": 4.7, \"genre\": \"Technology\"},\n",
    "]\n",
    "\n",
    "titles = []\n",
    "\n",
    "for book in books:\n",
    "    if book[\"rating\"] >= 4.7:\n",
    "        titles.append(book[\"title\"])\n",
    "\n",
    "if len(titles) > 1:\n",
    "    result = f\"Highest rated books are: {\", \".join(titles[:-1])} and {titles[-1]}\"\n",
    "elif len(titles) == 1:\n",
    "    result = f\"Highest rated book is: {titles[0]}\"\n",
    "else:\n",
    "    result = \"There are no good books...\"\n",
    "\n",
    "print(result)\n",
    "\n",
    "# for i in range(len(titles)):\n",
    "#     if i == len(titles) - 2:\n",
    "#         result += titles[i]\n",
    "#         continue\n",
    "#     elif i < len(titles) - 1:\n",
    "#         result += titles[i] + \", \"\n",
    "#         continue\n",
    "\n",
    "#     result += \" and \" + titles[i]\n",
    "\n",
    "# print(result)"
   ]
  }
 ],
 "metadata": {
  "kernelspec": {
   "display_name": ".venv",
   "language": "python",
   "name": "python3"
  },
  "language_info": {
   "codemirror_mode": {
    "name": "ipython",
    "version": 3
   },
   "file_extension": ".py",
   "mimetype": "text/x-python",
   "name": "python",
   "nbconvert_exporter": "python",
   "pygments_lexer": "ipython3",
   "version": "3.13.2"
  }
 },
 "nbformat": 4,
 "nbformat_minor": 2
}
