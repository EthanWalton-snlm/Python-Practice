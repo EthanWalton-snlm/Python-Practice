{
 "cells": [
  {
   "cell_type": "markdown",
   "metadata": {},
   "source": [
    "# Tuple - Immutable (cannot change)\n",
    "\n",
    "Same as list but **cannot modify**"
   ]
  },
  {
   "cell_type": "code",
   "execution_count": 49,
   "metadata": {},
   "outputs": [
    {
     "data": {
      "text/plain": [
       "[100, 70, 90, 40]"
      ]
     },
     "execution_count": 49,
     "metadata": {},
     "output_type": "execute_result"
    }
   ],
   "source": [
    "marks = [80, 70, 90, 40]\n",
    "marks[0] = 100\n",
    "\n",
    "marks"
   ]
  },
  {
   "cell_type": "code",
   "execution_count": 50,
   "metadata": {},
   "outputs": [
    {
     "data": {
      "text/plain": [
       "(80, 70, 90, 40)"
      ]
     },
     "execution_count": 50,
     "metadata": {},
     "output_type": "execute_result"
    }
   ],
   "source": [
    "marks = (80, 70, 90, 40) # Tuple\n",
    "# marks[0] = 100 -> Error ❌\n",
    "marks"
   ]
  },
  {
   "cell_type": "code",
   "execution_count": 51,
   "metadata": {},
   "outputs": [
    {
     "name": "stdout",
     "output_type": "stream",
     "text": [
      "80\n",
      "(80, 70)\n"
     ]
    }
   ],
   "source": [
    "print(marks[0])\n",
    "print(marks[0:2])"
   ]
  },
  {
   "cell_type": "markdown",
   "metadata": {},
   "source": [
    "## Modifies List\n",
    "1. `append()`\n",
    "2. `insert()`\n",
    "3. `remove()`\n",
    "4. `pop()`"
   ]
  },
  {
   "cell_type": "markdown",
   "metadata": {},
   "source": [
    "## Unpacking"
   ]
  },
  {
   "cell_type": "code",
   "execution_count": 52,
   "metadata": {},
   "outputs": [
    {
     "data": {
      "text/plain": [
       "22"
      ]
     },
     "execution_count": 52,
     "metadata": {},
     "output_type": "execute_result"
    }
   ],
   "source": [
    "a = b = c = 22\n",
    "\n",
    "c"
   ]
  },
  {
   "cell_type": "code",
   "execution_count": 53,
   "metadata": {},
   "outputs": [
    {
     "data": {
      "text/plain": [
       "20"
      ]
     },
     "execution_count": 53,
     "metadata": {},
     "output_type": "execute_result"
    }
   ],
   "source": [
    "a, b = 10, 20\n",
    "\n",
    "b"
   ]
  },
  {
   "cell_type": "code",
   "execution_count": 54,
   "metadata": {},
   "outputs": [
    {
     "name": "stdout",
     "output_type": "stream",
     "text": [
      "80 [90, 70] 95\n",
      "80 95\n"
     ]
    }
   ],
   "source": [
    "m1, *t1, m2 = [80, 90, 70, 95]\n",
    "\n",
    "print(m1, t1, m2)\n",
    "\n",
    "m1, _, _, m2 = [80, 90, 70, 95]\n",
    "\n",
    "print(m1, m2)"
   ]
  },
  {
   "cell_type": "code",
   "execution_count": null,
   "metadata": {},
   "outputs": [
    {
     "name": "stdout",
     "output_type": "stream",
     "text": [
      "distances = [5.0, 13.42, 16.4]\n"
     ]
    }
   ],
   "source": [
    "# Task 1.1 (no unpacking)\n",
    "\n",
    "points = [(3, 4), (6, 12), (10, 13)]\n",
    "distances = []\n",
    "\n",
    "for point in points:\n",
    "    x = point[0]\n",
    "    y = point[1]\n",
    "\n",
    "    distances.append(round((x**2 + y**2) ** 0.5, 2))\n",
    "\n",
    "print(f\"distances = {distances}\")\n"
   ]
  },
  {
   "cell_type": "code",
   "execution_count": 57,
   "metadata": {},
   "outputs": [
    {
     "name": "stdout",
     "output_type": "stream",
     "text": [
      "distances = [5.0, 13.42, 16.4]\n"
     ]
    }
   ],
   "source": [
    "# Task 1.2 (with unpacking)\n",
    "\n",
    "points = [(3,4), (6,12), (10,13)]\n",
    "distances = []\n",
    "\n",
    "for x, y in points:\n",
    "    distances.append(round((x**2 + y**2) ** 0.5, 2))\n",
    "\n",
    "print(f\"distances = {distances}\")"
   ]
  }
 ],
 "metadata": {
  "kernelspec": {
   "display_name": ".venv",
   "language": "python",
   "name": "python3"
  },
  "language_info": {
   "codemirror_mode": {
    "name": "ipython",
    "version": 3
   },
   "file_extension": ".py",
   "mimetype": "text/x-python",
   "name": "python",
   "nbconvert_exporter": "python",
   "pygments_lexer": "ipython3",
   "version": "3.13.2"
  }
 },
 "nbformat": 4,
 "nbformat_minor": 2
}
