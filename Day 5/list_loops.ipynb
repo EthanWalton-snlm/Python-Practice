{
 "cells": [
  {
   "cell_type": "markdown",
   "metadata": {},
   "source": [
    "# Multi-line Strings"
   ]
  },
  {
   "cell_type": "code",
   "execution_count": 22,
   "metadata": {},
   "outputs": [
    {
     "name": "stdout",
     "output_type": "stream",
     "text": [
      "This is cool\n",
      "This is also cool\n",
      "\n",
      "or we can do something\n",
      "like this 🙂\n",
      "\n",
      "and still use f strings at least\n",
      "10000000000 many times\n",
      "\n"
     ]
    }
   ],
   "source": [
    "msg1 = \"This is cool\"\n",
    "msg2 = \"This is also cool\\n\"\n",
    "\n",
    "print(f\"{msg1}\\n{msg2}\")\n",
    "\n",
    "msg3 = \"\"\"or we can do something\n",
    "like this 🙂\\n\"\"\"\n",
    "\n",
    "print(msg3)\n",
    "\n",
    "amount = 10000000000\n",
    "msg4 = f\"\"\"and still use f strings at least\n",
    "{amount} many times\\n\"\"\"\n",
    "\n",
    "print(msg4)"
   ]
  },
  {
   "cell_type": "markdown",
   "metadata": {},
   "source": [
    "# List Tasks"
   ]
  },
  {
   "cell_type": "code",
   "execution_count": 25,
   "metadata": {},
   "outputs": [
    {
     "name": "stdout",
     "output_type": "stream",
     "text": [
      "there is no time to save the world\n"
     ]
    }
   ],
   "source": [
    "# Task 1.1\n",
    "\n",
    "scrambled_message = \"world the save to time no is there\"\n",
    "\n",
    "scrambled_message = scrambled_message.split(\" \")\n",
    "\n",
    "unscrambled_message = scrambled_message[::-1]\n",
    "\n",
    "print(\" \".join(unscrambled_message))"
   ]
  },
  {
   "cell_type": "code",
   "execution_count": 26,
   "metadata": {},
   "outputs": [
    {
     "name": "stdout",
     "output_type": "stream",
     "text": [
      "My favourite playlist:\n",
      "\n",
      "1. 🎵Dancing Queen\n",
      "2. 🎸Sweet Child O' Mine\n",
      "3. 🎹Piano Man\n",
      "4. 🎤Bohemian Rhapsody\n",
      "5. 🎺All That Jazz\n"
     ]
    }
   ],
   "source": [
    "# Task 1.2\n",
    "\n",
    "playlist = \"🎵Dancing Queen;🎸Sweet Child O' Mine;🎹Piano Man;🎤Bohemian Rhapsody;🎺All That Jazz\"\n",
    "\n",
    "songs = playlist.split(';')\n",
    "\n",
    "print(\"My favourite playlist:\\n\")\n",
    "\n",
    "for i in range(len(songs)):\n",
    "    print(f\"{i + 1}. {songs[i]}\")"
   ]
  },
  {
   "cell_type": "code",
   "execution_count": 27,
   "metadata": {},
   "outputs": [
    {
     "name": "stdout",
     "output_type": "stream",
     "text": [
      "Original prices: 💰 [1000, 1500, 400]\n",
      "[1000, 1500, 400, 600, 1000]\n",
      "[1000, 1500, 400, 800]\n",
      "[1000, 1500, 400, 600, 1000]\n"
     ]
    }
   ],
   "source": [
    "# Task 1.3\n",
    "\n",
    "prices = [1000,1500,400]\n",
    "print(\"Original prices: 💰\", prices)\n",
    "prices1 = prices[:]\n",
    "prices2 = prices\n",
    "\n",
    "prices.append(600)\n",
    "prices1.append(800)\n",
    "prices2.append(1000)\n",
    "\n",
    "print(f\"{prices}\\n{prices1}\\n{prices2}\")"
   ]
  }
 ],
 "metadata": {
  "kernelspec": {
   "display_name": ".venv",
   "language": "python",
   "name": "python3"
  },
  "language_info": {
   "codemirror_mode": {
    "name": "ipython",
    "version": 3
   },
   "file_extension": ".py",
   "mimetype": "text/x-python",
   "name": "python",
   "nbconvert_exporter": "python",
   "pygments_lexer": "ipython3",
   "version": "3.13.2"
  }
 },
 "nbformat": 4,
 "nbformat_minor": 2
}
