{
 "cells": [
  {
   "cell_type": "code",
   "execution_count": 39,
   "metadata": {},
   "outputs": [
    {
     "name": "stdout",
     "output_type": "stream",
     "text": [
      "['Inception', 'Interstellar', 'Dunkirk', 'The Dark Knight', 'Memento']\n"
     ]
    }
   ],
   "source": [
    "# Task 1.1\n",
    "\n",
    "movies = [\n",
    "    {\"title\": \"Inception\", \"ratings\": [5, 4, 5, 4, 5]},\n",
    "    {\"title\": \"Interstellar\", \"ratings\": [5, 5, 4, 5, 4]},\n",
    "    {\"title\": \"Dunkirk\", \"ratings\": [4, 4, 4, 3, 4]},\n",
    "    {\"title\": \"The Dark Knight\", \"ratings\": [5, 5, 5, 5, 5]},\n",
    "    {\"title\": \"Memento\", \"ratings\": [4, 5, 4, 5, 4]},\n",
    "]\n",
    "\n",
    "print([movie[\"title\"] for movie in movies])"
   ]
  },
  {
   "cell_type": "code",
   "execution_count": 40,
   "metadata": {},
   "outputs": [
    {
     "name": "stdout",
     "output_type": "stream",
     "text": [
      "[4.6, 4.6, 3.8, 5.0, 4.4]\n"
     ]
    }
   ],
   "source": [
    "# Task 1.2\n",
    "\n",
    "movies = [\n",
    "    {\"title\": \"Inception\", \"ratings\": [5, 4, 5, 4, 5]},\n",
    "    {\"title\": \"Interstellar\", \"ratings\": [5, 5, 4, 5, 4]},\n",
    "    {\"title\": \"Dunkirk\", \"ratings\": [4, 4, 4, 3, 4]},\n",
    "    {\"title\": \"The Dark Knight\", \"ratings\": [5, 5, 5, 5, 5]},\n",
    "    {\"title\": \"Memento\", \"ratings\": [4, 5, 4, 5, 4]},\n",
    "]\n",
    "\n",
    "ratings = [sum(movie[\"ratings\"]) / len(movie[\"ratings\"]) for movie in movies]\n",
    "\n",
    "print(ratings)\n"
   ]
  },
  {
   "cell_type": "code",
   "execution_count": 41,
   "metadata": {},
   "outputs": [
    {
     "name": "stdout",
     "output_type": "stream",
     "text": [
      "[{'title': 'Inception', 'ratings': [5, 4, 5, 4, 5], 'average_rating': 4.6}, {'title': 'Interstellar', 'ratings': [5, 5, 4, 5, 4], 'average_rating': 4.6}, {'title': 'Dunkirk', 'ratings': [4, 4, 4, 3, 4], 'average_rating': 3.8}, {'title': 'The Dark Knight', 'ratings': [5, 5, 5, 5, 5], 'average_rating': 5.0}, {'title': 'Memento', 'ratings': [4, 5, 4, 5, 4], 'average_rating': 4.4}]\n"
     ]
    }
   ],
   "source": [
    "# Task 1.3\n",
    "\n",
    "movies = [\n",
    "    {\"title\": \"Inception\", \"ratings\": [5, 4, 5, 4, 5]},\n",
    "    {\"title\": \"Interstellar\", \"ratings\": [5, 5, 4, 5, 4]},\n",
    "    {\"title\": \"Dunkirk\", \"ratings\": [4, 4, 4, 3, 4]},\n",
    "    {\"title\": \"The Dark Knight\", \"ratings\": [5, 5, 5, 5, 5]},\n",
    "    {\"title\": \"Memento\", \"ratings\": [4, 5, 4, 5, 4]},\n",
    "]\n",
    "\n",
    "output = [\n",
    "    {**movie, \"average_rating\": sum(movie[\"ratings\"]) / len(movie[\"ratings\"])}\n",
    "    for movie in movies\n",
    "]\n",
    "\n",
    "print(output)\n"
   ]
  },
  {
   "cell_type": "code",
   "execution_count": null,
   "metadata": {},
   "outputs": [
    {
     "name": "stdout",
     "output_type": "stream",
     "text": [
      "['Inception', 'Interstellar', 'The Dark Knight']\n",
      "['Inception', 'Interstellar', 'The Dark Knight']\n"
     ]
    }
   ],
   "source": [
    "# Task 1.4\n",
    "\n",
    "movies = [\n",
    "    {\"title\": \"Inception\", \"ratings\": [5, 4, 5, 4, 5]},\n",
    "    {\"title\": \"Interstellar\", \"ratings\": [5, 5, 4, 5, 4]},\n",
    "    {\"title\": \"Dunkirk\", \"ratings\": [4, 4, 4, 3, 4]},\n",
    "    {\"title\": \"The Dark Knight\", \"ratings\": [5, 5, 5, 5, 5]},\n",
    "    {\"title\": \"Memento\", \"ratings\": [4, 5, 4, 5, 4]},\n",
    "]\n",
    "\n",
    "# 1 line\n",
    "\n",
    "print(\n",
    "    [\n",
    "        movie[\"title\"]\n",
    "        for movie in movies\n",
    "        if sum(movie[\"ratings\"]) / len(movie[\"ratings\"]) >= 4.6\n",
    "    ]\n",
    ")\n",
    "\n",
    "# 2 lines\n",
    "\n",
    "updated = [\n",
    "    {**movie, \"average_rating\": sum(movie[\"ratings\"]) / len(movie[\"ratings\"])}\n",
    "    for movie in movies\n",
    "]\n",
    "\n",
    "print([movie[\"title\"] for movie in updated if movie[\"average_rating\"] >= 4.6])\n"
   ]
  }
 ],
 "metadata": {
  "kernelspec": {
   "display_name": ".venv",
   "language": "python",
   "name": "python3"
  },
  "language_info": {
   "codemirror_mode": {
    "name": "ipython",
    "version": 3
   },
   "file_extension": ".py",
   "mimetype": "text/x-python",
   "name": "python",
   "nbconvert_exporter": "python",
   "pygments_lexer": "ipython3",
   "version": "3.13.2"
  }
 },
 "nbformat": 4,
 "nbformat_minor": 2
}
