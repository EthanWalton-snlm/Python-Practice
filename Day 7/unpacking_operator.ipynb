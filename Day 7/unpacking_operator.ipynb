{
 "cells": [
  {
   "cell_type": "code",
   "execution_count": 28,
   "metadata": {},
   "outputs": [
    {
     "data": {
      "text/plain": [
       "[100, 200, 300, 400]"
      ]
     },
     "execution_count": 28,
     "metadata": {},
     "output_type": "execute_result"
    }
   ],
   "source": [
    "t1 = [100, 200]\n",
    "t2 = [300, 400]\n",
    "\n",
    "t1.extend(t2)\n",
    "\n",
    "t1"
   ]
  },
  {
   "cell_type": "code",
   "execution_count": 29,
   "metadata": {},
   "outputs": [
    {
     "data": {
      "text/plain": [
       "[100, 200]"
      ]
     },
     "execution_count": 29,
     "metadata": {},
     "output_type": "execute_result"
    }
   ],
   "source": [
    "t1 = [100, 200]\n",
    "t2 = [300, 400]\n",
    "t3 = [*t1]\n",
    "\n",
    "t3"
   ]
  },
  {
   "cell_type": "code",
   "execution_count": 30,
   "metadata": {},
   "outputs": [
    {
     "data": {
      "text/plain": [
       "[59, 100, 200, 80]"
      ]
     },
     "execution_count": 30,
     "metadata": {},
     "output_type": "execute_result"
    }
   ],
   "source": [
    "t1 = [100, 200]\n",
    "t2 = [300, 400]\n",
    "t3 = [59, *t1, 80]\n",
    "\n",
    "t3"
   ]
  },
  {
   "cell_type": "code",
   "execution_count": 31,
   "metadata": {},
   "outputs": [
    {
     "name": "stdout",
     "output_type": "stream",
     "text": [
      "90 70 45\n"
     ]
    }
   ],
   "source": [
    "m1, *t1, m2 = [80, 90, 70, 45, 95]\n",
    "\n",
    "print(*t1)"
   ]
  },
  {
   "cell_type": "code",
   "execution_count": 32,
   "metadata": {},
   "outputs": [
    {
     "data": {
      "text/plain": [
       "[100, 200, 300, 400]"
      ]
     },
     "execution_count": 32,
     "metadata": {},
     "output_type": "execute_result"
    }
   ],
   "source": [
    "t1 = [100, 200]\n",
    "t2 = [300, 400]\n",
    "t3 = [*t1, *t2]\n",
    "\n",
    "t3\n"
   ]
  },
  {
   "cell_type": "code",
   "execution_count": 33,
   "metadata": {},
   "outputs": [
    {
     "data": {
      "text/plain": [
       "[10, 100, 200, 70, 90, 300, 400, 90]"
      ]
     },
     "execution_count": 33,
     "metadata": {},
     "output_type": "execute_result"
    }
   ],
   "source": [
    "t1 = [100, 200]\n",
    "t2 = [300, 400]\n",
    "\n",
    "t3 = [10, *t1, 70, 90, *t2, 90]\n",
    "\n",
    "t3\n"
   ]
  },
  {
   "cell_type": "code",
   "execution_count": 34,
   "metadata": {},
   "outputs": [
    {
     "data": {
      "text/plain": [
       "([1, '6'], [8, 9])"
      ]
     },
     "execution_count": 34,
     "metadata": {},
     "output_type": "execute_result"
    }
   ],
   "source": [
    "veggie = ([1, \"6\"], [8, 9])\n",
    "\n",
    "veggie[0][1]\n",
    "\n",
    "veggie\n"
   ]
  },
  {
   "cell_type": "code",
   "execution_count": 35,
   "metadata": {},
   "outputs": [
    {
     "data": {
      "text/plain": [
       "([1, '🍅'], [10, '🥔'], [8, '🥕', '🫑'])"
      ]
     },
     "execution_count": 35,
     "metadata": {},
     "output_type": "execute_result"
    }
   ],
   "source": [
    "veggie = ([1, \"🍅\"], [2, \"🥔\"], [8, \"🥕\"])  # BaseAddress of the list remains same\n",
    "\n",
    "# Case 1:\n",
    "veggie[1][0] = 10\n",
    "\n",
    "# Case 2:\n",
    "veggie[2].append(\"🫑\")\n",
    "\n",
    "\n",
    "veggie\n"
   ]
  },
  {
   "cell_type": "code",
   "execution_count": 36,
   "metadata": {},
   "outputs": [
    {
     "ename": "TypeError",
     "evalue": "'tuple' object does not support item assignment",
     "output_type": "error",
     "traceback": [
      "\u001b[1;31m---------------------------------------------------------------------------\u001b[0m",
      "\u001b[1;31mTypeError\u001b[0m                                 Traceback (most recent call last)",
      "Cell \u001b[1;32mIn[36], line 4\u001b[0m\n\u001b[0;32m      1\u001b[0m veggie \u001b[38;5;241m=\u001b[39m ([\u001b[38;5;241m1\u001b[39m, \u001b[38;5;124m\"\u001b[39m\u001b[38;5;124m🍅\u001b[39m\u001b[38;5;124m\"\u001b[39m], [\u001b[38;5;241m2\u001b[39m, \u001b[38;5;124m\"\u001b[39m\u001b[38;5;124m🥔\u001b[39m\u001b[38;5;124m\"\u001b[39m], [\u001b[38;5;241m8\u001b[39m, \u001b[38;5;124m\"\u001b[39m\u001b[38;5;124m🥕\u001b[39m\u001b[38;5;124m\"\u001b[39m])\n\u001b[1;32m----> 4\u001b[0m \u001b[43mveggie\u001b[49m\u001b[43m[\u001b[49m\u001b[38;5;241;43m1\u001b[39;49m\u001b[43m]\u001b[49m \u001b[38;5;241m=\u001b[39m [\u001b[38;5;241m10\u001b[39m, \u001b[38;5;124m\"\u001b[39m\u001b[38;5;124m🥕\u001b[39m\u001b[38;5;124m\"\u001b[39m]  \u001b[38;5;66;03m# Error\u001b[39;00m\n\u001b[0;32m      5\u001b[0m veggie[\u001b[38;5;241m1\u001b[39m] \u001b[38;5;241m=\u001b[39m \u001b[38;5;124m\"\u001b[39m\u001b[38;5;124m3\u001b[39m\u001b[38;5;124m\"\u001b[39m  \u001b[38;5;66;03m# Error\u001b[39;00m\n",
      "\u001b[1;31mTypeError\u001b[0m: 'tuple' object does not support item assignment"
     ]
    }
   ],
   "source": [
    "veggie = ([1, \"🍅\"], [2, \"🥔\"], [8, \"🥕\"])\n",
    "\n",
    "\n",
    "veggie[1] = [10, \"🥕\"]  # Error\n",
    "veggie[1] = \"3\"  # Error\n"
   ]
  },
  {
   "cell_type": "code",
   "execution_count": 41,
   "metadata": {},
   "outputs": [
    {
     "name": "stdout",
     "output_type": "stream",
     "text": [
      "{'name': 'Jamie', 'age': 19, 'job': 'Sanlam', 'country': 'SA'}\n"
     ]
    },
    {
     "data": {
      "text/plain": [
       "{'job': 'Sanlam', 'country': 'SA', 'age': 20, 'name': 'Jamie'}"
      ]
     },
     "execution_count": 41,
     "metadata": {},
     "output_type": "execute_result"
    }
   ],
   "source": [
    "student = {\"name\": \"Jamie\", \"age\": 20}\n",
    "detail = {\"job\": \"Sanlam\", \"country\": \"SA\", \"age\": 19}\n",
    "\n",
    "all_details = {**student, **detail}  # ** -> unpacking operator\n",
    "\n",
    "print(all_details)\n",
    "\n",
    "# Note how age changes when detail and student switched\n",
    "\n",
    "all_details = {**detail, **student}  # ** -> unpacking operator\n",
    "\n",
    "all_details\n"
   ]
  },
  {
   "cell_type": "code",
   "execution_count": 44,
   "metadata": {},
   "outputs": [
    {
     "name": "stdout",
     "output_type": "stream",
     "text": [
      "{'code': 27, 'nice': 1}\n"
     ]
    },
    {
     "data": {
      "text/plain": [
       "{'nice': 1, 'code': 91}"
      ]
     },
     "execution_count": 44,
     "metadata": {},
     "output_type": "execute_result"
    }
   ],
   "source": [
    "# All keys should be unique\n",
    "# If not, it takes the latest value\n",
    "\n",
    "\n",
    "x = {\"nice\":1, \"code\":27}\n",
    "default = {\"code\":91}\n",
    "\n",
    "# if we overwrite and unpack we can use as default values\n",
    "# override default\n",
    "all_details = {**default, **x}\n",
    "print(all_details)\n",
    "\n",
    "# default overrides x\n",
    "all_details = {**x, **default}\n",
    "\n",
    "all_details"
   ]
  }
 ],
 "metadata": {
  "kernelspec": {
   "display_name": ".venv",
   "language": "python",
   "name": "python3"
  },
  "language_info": {
   "codemirror_mode": {
    "name": "ipython",
    "version": 3
   },
   "file_extension": ".py",
   "mimetype": "text/x-python",
   "name": "python",
   "nbconvert_exporter": "python",
   "pygments_lexer": "ipython3",
   "version": "3.13.2"
  }
 },
 "nbformat": 4,
 "nbformat_minor": 2
}
