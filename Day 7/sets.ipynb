{
 "cells": [
  {
   "cell_type": "code",
   "execution_count": 3,
   "metadata": {},
   "outputs": [
    {
     "name": "stdout",
     "output_type": "stream",
     "text": [
      "{1, 2, 3, 4} <class 'set'>\n"
     ]
    }
   ],
   "source": [
    "nums = {1,2,3,4}\n",
    "\n",
    "print(nums, type(nums))"
   ]
  },
  {
   "cell_type": "markdown",
   "metadata": {},
   "source": [
    "# Set\n",
    "- No **duplicates**\n",
    "- Order not guaranteed\n",
    "- Mutable"
   ]
  },
  {
   "cell_type": "code",
   "execution_count": null,
   "metadata": {},
   "outputs": [
    {
     "data": {
      "text/plain": [
       "{}"
      ]
     },
     "execution_count": 7,
     "metadata": {},
     "output_type": "execute_result"
    }
   ],
   "source": [
    "nums = {100, 1, 2, 3, 3, 4, 5, 5}\n",
    "\n",
    "nums"
   ]
  },
  {
   "cell_type": "code",
   "execution_count": 8,
   "metadata": {},
   "outputs": [
    {
     "name": "stdout",
     "output_type": "stream",
     "text": [
      "<class 'set'>\n"
     ]
    }
   ],
   "source": [
    "# Empty set\n",
    "\n",
    "y = set()\n",
    "\n",
    "print(type(y))"
   ]
  },
  {
   "cell_type": "markdown",
   "metadata": {},
   "source": [
    "## CRUD Methods\n",
    "\n",
    "- Create\n",
    "- Update"
   ]
  },
  {
   "cell_type": "code",
   "execution_count": 17,
   "metadata": {},
   "outputs": [
    {
     "name": "stdout",
     "output_type": "stream",
     "text": [
      "{'Phone', 'Tablet', 'Laptop'}\n",
      "{'Phone', 'Tablet', 'PC', 'Laptop'}\n"
     ]
    }
   ],
   "source": [
    "gadgets = {'Phone','Laptop'}\n",
    "more = {'PC'}\n",
    "\n",
    "gadgets.add(\"Tablet\")\n",
    "\n",
    "print(gadgets)\n",
    "\n",
    "gadgets.update(more) # multiple items ...or loop\n",
    "\n",
    "print(gadgets)"
   ]
  },
  {
   "cell_type": "code",
   "execution_count": 19,
   "metadata": {},
   "outputs": [
    {
     "name": "stdout",
     "output_type": "stream",
     "text": [
      "{'Tablet', 'PC', 'Laptop'}\n"
     ]
    }
   ],
   "source": [
    "gadgets = {\"Phone\", \"Tablet\", \"PC\", \"Laptop\"}\n",
    "\n",
    "gadgets.remove(\"Phone\")\n",
    "# gadgets.remove(\"Phone\") # fails second time\n",
    "\n",
    "gadgets.discard(\"gfgfg\") # better, doesn't cause error\n",
    "\n",
    "print(gadgets)"
   ]
  },
  {
   "cell_type": "code",
   "execution_count": null,
   "metadata": {},
   "outputs": [
    {
     "name": "stdout",
     "output_type": "stream",
     "text": [
      "{'🟢 green', '🔴 red', '💗 pink', '🔵 blue'} <class 'set'>\n",
      "{'🟢 green', '🔴 red', '💗 pink', '🔵 blue'} <class 'set'>\n"
     ]
    }
   ],
   "source": [
    "# Task\n",
    "\n",
    "colors = [\"🔴 red\", \"🔵 blue\", \"🔴 red\", \"🟢 green\", \"💗 pink\", \"🔵 blue\"]\n",
    "\n",
    "# Easy Way\n",
    "\n",
    "print({*colors}, type({*colors}))\n",
    "\n",
    "# Hard Way\n",
    "\n",
    "new_set2 = set()\n",
    "\n",
    "for color in colors:\n",
    "    if color not in new_set2:\n",
    "        new_set2.add(color)\n",
    "        continue\n",
    "\n",
    "print(new_set2, type({*colors}))\n"
   ]
  },
  {
   "cell_type": "markdown",
   "metadata": {},
   "source": [
    "## Methods of Set"
   ]
  },
  {
   "cell_type": "code",
   "execution_count": null,
   "metadata": {},
   "outputs": [],
   "source": [
    "intersection\n",
    "union\n",
    "difference\n",
    "symmetric difference"
   ]
  }
 ],
 "metadata": {
  "kernelspec": {
   "display_name": ".venv",
   "language": "python",
   "name": "python3"
  },
  "language_info": {
   "codemirror_mode": {
    "name": "ipython",
    "version": 3
   },
   "file_extension": ".py",
   "mimetype": "text/x-python",
   "name": "python",
   "nbconvert_exporter": "python",
   "pygments_lexer": "ipython3",
   "version": "3.13.2"
  }
 },
 "nbformat": 4,
 "nbformat_minor": 2
}
